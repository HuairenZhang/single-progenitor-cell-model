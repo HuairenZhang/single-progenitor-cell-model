{
 "cells": [
  {
   "cell_type": "code",
   "execution_count": 1,
   "metadata": {},
   "outputs": [],
   "source": [
    "import numpy as np\n",
    "import scipy\n",
    "from mpmath import *\n",
    "import cmath"
   ]
  },
  {
   "cell_type": "code",
   "execution_count": 2,
   "metadata": {},
   "outputs": [],
   "source": [
    "import math\n",
    "def normal_round(n):\n",
    "    if n - math.floor(n) < 0.5:\n",
    "        return math.floor(n)\n",
    "    return math.ceil(n)"
   ]
  },
  {
   "cell_type": "code",
   "execution_count": 3,
   "metadata": {},
   "outputs": [],
   "source": [
    "def F(x, y, t, r, gamma):\n",
    "    v = (1 - 4 * r)** 0.5    \n",
    "    w = (gamma * (1 - 2 * r) - 2 * r) / (2 * gamma * (1 - 4 * r)** 0.5)    \n",
    "    gg = (1 - 4 * r)** 0.5 / gamma\n",
    "    u = (1 - y) * np.exp(-gamma * t)\n",
    "    u0 = (1 - y)\n",
    "    Q = 1 + 2 * w - gg * u0 + (2 * r * (x - y) + y - 1) / gamma\n",
    "    C = (-Q * whitm(w, 0, gg * u0) + (1 + 2 * w) * whitm(1 + w, 0, gg * u0)) / \\\n",
    "        (Q * whitw(w, 0, gg * u0) + 2 * whitw(1 + w, 0, gg * u0))\n",
    "    f = 1 - u + \\\n",
    "        (u * (1 + v) - gamma * (1 + 2 * w)) / (2 * r) + \\\n",
    "        (gamma / (2 * r)) * ((1 + 2 * w) * whitm(1 + w, 0, u * gg) -\n",
    "                             2 * C * whitw(1 + w, 0, u * gg)) / \\\n",
    "        (whitm(w, 0, u * gg) + C * whitw(w, 0, u * gg))\n",
    "    return f\n",
    "\n",
    "def Antal(z, t, r, gamma):\n",
    "    g = []\n",
    "    for k in range(len(z)):\n",
    "        if z[k] == 1:\n",
    "            g.append(1)\n",
    "        else:\n",
    "            g.append(F(z[k], z[k], t, r, gamma))\n",
    "    return g\n"
   ]
  },
  {
   "cell_type": "code",
   "execution_count": 4,
   "metadata": {},
   "outputs": [],
   "source": [
    "def Psurv(t, l, r, rho):\n",
    "    rho = rho - 0.00001\n",
    "    gamma = rho / (1 - rho)\n",
    "    T = l * t\n",
    "    p = 1 - np.real(Antal([0], T, r, gamma))\n",
    "#     if (p <= 0 or p > 1 or np.isnan(p)):\n",
    "    if (p <= 0 or p > 1):\n",
    "        p = Psurv(t, l, r + 0.00001, rho - 0.001)\n",
    "    return p\n"
   ]
  },
  {
   "cell_type": "code",
   "execution_count": 5,
   "metadata": {},
   "outputs": [],
   "source": [
    "def Pn(n, t, l, r, rho, N, returnConsecutive='', max_n=''):\n",
    "    if max(n) >= N:\n",
    "        N = max(n) + 1\n",
    "    rho = rho - 0.00001\n",
    "    assert (rho < 1)\n",
    "    assert (rho > 0)\n",
    "    gamma = rho / (1 - rho)\n",
    "    T = l * t\n",
    "#     k = range(N)\n",
    "#     Gvals = Antal(cmath.exp(2 * np.pi * 1j * k / N), T, r, gamma)\n",
    "    Gvals = Antal([cmath.exp(2 * np.pi * 1j * k / N) for k in range(int(N))], T, r, gamma)\n",
    "    p = []\n",
    "    if returnConsecutive:\n",
    "        p = np.zeros(max_n)\n",
    "#         for lp in range(1, len(n) + 1):\n",
    "        for lp in range(len(n)):\n",
    "#              p[n[lp]] = \\\n",
    "#                 np.real((1 / N) *\n",
    "#                         sum(Gvals * np.exp(-2 * np.pi * 1j * k * n[lp] / N)))\n",
    "            temporary = [cmath.exp(-2 * np.pi * 1j * k * n[lp] / N) for k in range(int(N))]\n",
    "            p[n[lp]-1] = np.real((1 / N) *sum([a*b for a,b in zip(Gvals,temporary)]))\n",
    "                               \n",
    "    else:\n",
    "#         for lp in range(1, len(n) + 1):\n",
    "        for lp in range(len(n)):\n",
    "#             p[lp] = \\\n",
    "#                 np.real((1 / N) * sum(Gvals *\n",
    "#                                       np.exp(-2 * np.pi * 1j * k * n[lp] / N)))          \n",
    "            Temporary = [cmath.exp(-2 * np.pi * 1j * k * n[lp] / N) for k in range(int(N))]\n",
    "            p[lp] = np.real((1 / N) * sum(a*b for a,b in zip(Gvals,Temporary)))\n",
    "#     print(Gvals)\n",
    "    tst = sum(p)\n",
    "#     print(tst)\n",
    "    if (tst > 1 or tst < 0 or np.isnan(tst)):\n",
    "        print('Pathological point: r=' + str(r) + ' rho=' + str(\n",
    "            rho) + '. Making 0.1% perturbation')\n",
    "        p = Pn(n, t, l, r + 0.00001, rho - 0.001, N, returnConsecutive, max_n)\n",
    "\n",
    "#     for x in range(len(p)):\n",
    "#         if (p[x] < 0):\n",
    "#             p[x] = 0\n",
    "\n",
    "#     p[p < 0 & p > -1e-5] = 0\n",
    "\n",
    "    return(p)"
   ]
  },
  {
   "cell_type": "code",
   "execution_count": 8,
   "metadata": {
    "scrolled": true
   },
   "outputs": [
    {
     "name": "stdout",
     "output_type": "stream",
     "text": [
      "Completed time t=1.4285714285714286 weeks, lambda=0.4 rho=0.5 r=0.06\n",
      "Completed time t=4.285714285714286 weeks, lambda=0.4 rho=0.5 r=0.06\n",
      "Completed time t=12.0 weeks, lambda=0.4 rho=0.5 r=0.06\n",
      "Completed time t=26 weeks, lambda=0.4 rho=0.5 r=0.06\n",
      "Completed time t=1.4285714285714286 weeks, lambda=0.4 rho=0.5 r=0.08\n",
      "Completed time t=4.285714285714286 weeks, lambda=0.4 rho=0.5 r=0.08\n",
      "Completed time t=12.0 weeks, lambda=0.4 rho=0.5 r=0.08\n",
      "Completed time t=26 weeks, lambda=0.4 rho=0.5 r=0.08\n",
      "Completed time t=1.4285714285714286 weeks, lambda=0.4 rho=0.75 r=0.06\n",
      "Completed time t=4.285714285714286 weeks, lambda=0.4 rho=0.75 r=0.06\n",
      "Completed time t=12.0 weeks, lambda=0.4 rho=0.75 r=0.06\n",
      "Completed time t=26 weeks, lambda=0.4 rho=0.75 r=0.06\n",
      "Completed time t=1.4285714285714286 weeks, lambda=0.4 rho=0.75 r=0.08\n",
      "Completed time t=4.285714285714286 weeks, lambda=0.4 rho=0.75 r=0.08\n",
      "Completed time t=12.0 weeks, lambda=0.4 rho=0.75 r=0.08\n",
      "Completed time t=26 weeks, lambda=0.4 rho=0.75 r=0.08\n",
      "Completed time t=1.4285714285714286 weeks, lambda=0.5 rho=0.5 r=0.06\n",
      "Completed time t=4.285714285714286 weeks, lambda=0.5 rho=0.5 r=0.06\n",
      "Completed time t=12.0 weeks, lambda=0.5 rho=0.5 r=0.06\n",
      "Completed time t=26 weeks, lambda=0.5 rho=0.5 r=0.06\n",
      "Completed time t=1.4285714285714286 weeks, lambda=0.5 rho=0.5 r=0.08\n",
      "Completed time t=4.285714285714286 weeks, lambda=0.5 rho=0.5 r=0.08\n",
      "Completed time t=12.0 weeks, lambda=0.5 rho=0.5 r=0.08\n",
      "Completed time t=26 weeks, lambda=0.5 rho=0.5 r=0.08\n",
      "Completed time t=1.4285714285714286 weeks, lambda=0.5 rho=0.75 r=0.06\n",
      "Completed time t=4.285714285714286 weeks, lambda=0.5 rho=0.75 r=0.06\n",
      "Completed time t=12.0 weeks, lambda=0.5 rho=0.75 r=0.06\n",
      "Completed time t=26 weeks, lambda=0.5 rho=0.75 r=0.06\n",
      "Completed time t=1.4285714285714286 weeks, lambda=0.5 rho=0.75 r=0.08\n",
      "Completed time t=4.285714285714286 weeks, lambda=0.5 rho=0.75 r=0.08\n",
      "Completed time t=12.0 weeks, lambda=0.5 rho=0.75 r=0.08\n",
      "Completed time t=26 weeks, lambda=0.5 rho=0.75 r=0.08\n"
     ]
    }
   ],
   "source": [
    "def main():\n",
    "    t = [10 / 7, 30 / 7, 84 / 7, 26]\n",
    "\n",
    "    nRange = [list(range(1, 8)),\n",
    "              list(range(1, 14)),\n",
    "              list(range(1, 27)),\n",
    "              list(range(1, 56))]\n",
    "\n",
    "    lambdaRange = [0.4,0.5]\n",
    "    rhoRange = [0.5,0.75]\n",
    "    rRange = [0.06,0.08]\n",
    "\n",
    "    maxN = max(list(map(max, nRange)))\n",
    "    \n",
    "#     PScanPP = np.zeros(len(lambdaRange), len(rhoRange), len(rRange),\n",
    "#                        len(nRange), maxN)    \n",
    "    PScanPP = [[[[np.zeros(maxN) for L4 in range(len(nRange))] for L3 in range(len(rRange))] for L2 in range(len(rhoRange))] for L1 in range(len(lambdaRange))]\n",
    "    \n",
    "#     PSurvScanPP = np.zeros(len(lambdaRange), len(rhoRange), len(rRange),\n",
    "#                            len(nRange))    \n",
    "    PSurvScanPP = [[[np.zeros(len(nRange)) for L3 in range(len(rRange))] for L2 in range(len(rhoRange))] for L1 in range(len(lambdaRange))]\n",
    "\n",
    "    timePoints = range(len(t))\n",
    "    nBadValues = 0\n",
    "\n",
    "    for L1 in range(len(lambdaRange)):\n",
    "#         PScanPP_local = zeros(len(rhoRange), len(rRange), len(nRange), maxN)        \n",
    "        PScanPP_local = [[[np.zeros(maxN) for L4 in range(len(nRange))] for L3 in range(len(rRange))] for L2 in range(len(rhoRange))]\n",
    "        \n",
    "#         PSurvScanPP_local = zeros(len(rhoRange), len(rRange), len(nRange))        \n",
    "        PSurvScanPP_local = [[np.zeros(len(nRange)) for L3 in range(len(rRange))] for L2 in range(len(rhoRange))]\n",
    "\n",
    "        for L2 in range(len(rhoRange)):\n",
    "            for L3 in range(len(rRange)):\n",
    "                for L4 in timePoints:\n",
    "                    probS = Psurv(t[L4], lambdaRange[L1], rRange[L3], rhoRange[L2])\n",
    "                    avgN = 1 / probS\n",
    "                    Niter = max([normal_round(int(4*avgN)), normal_round(1.5*max(nRange[L4])), 10])\n",
    "                    probN = Pn(nRange[L4], t[L4], lambdaRange[L1], rRange[L3],\n",
    "                               rhoRange[L2], Niter, 'returnConsecutive', maxN)\n",
    "                    if any(probN > 1) or \\\n",
    "                            sum(probN) > 1 or \\\n",
    "                            probS > 1 or \\\n",
    "                            probS <0 or \\\n",
    "                            abs(probS-sum(probN))>1e-3:\n",
    "                        print('Bad values at time t=' + str(t[L4]) + ' lambda=' + str(lambdaRange[L1]) + ' rho=' + str(rhoRange[L2]) + ' r=' + str(rRange[L3]))\n",
    "                        print('any(probN>1=' + str(any(probN>1)) + ', sum(probN)>1=' + str(sum(probN)>1) + ', (probS-sum(probN))=' + str(probS-sum(probN)))\n",
    "                        nBadValues += 1\n",
    "                    else:\n",
    "                        print('Completed time t=' + str(t[L4]) + ' weeks, lambda=' + str(lambdaRange[L1]) + ' rho=' + str(rhoRange[L2]) + ' r=' + str(rRange[L3]))\n",
    "\n",
    "#                     PSurvScanPP_local[L2,L3,L4] = probS\n",
    "#                     PScanPP_local[L2,L3,L4,:] = probN                  \n",
    "                    PSurvScanPP_local[L2][L3][L4] = probS\n",
    "                    PScanPP_local[L2][L3][L4][:] = probN\n",
    "        \n",
    "#         PSurvScanPP[L1,:,:,:] = PSurvScanPP_local\n",
    "#         PScanPP[L1,:,:,:,:] = PScanPP_local        \n",
    "        PSurvScanPP[L1] = PSurvScanPP_local\n",
    "        PScanPP[L1] = PScanPP_local\n",
    "\n",
    "#     i=len(lambdaRange)\n",
    "#     j=len(rhoRange)\n",
    "#     k=len(rRange)\n",
    "#     l=len(t)\n",
    "#     sum(PScanPP[i][j][k][l][:])/PSurvScanPP[i][j][k][l]\n",
    "\n",
    "#     return(avgN) good\n",
    "#     return(Niter) MATLAB gives 83, python gives 82\n",
    "#     return(probN) small difference detected at 0.000001\n",
    "#     return(probS) good\n",
    "#     return(PScanPP) \n",
    "#     return(PScanPP_local) good\n",
    "    return(PSurvScanPP)\n",
    "#     return(PSurvScanPP_local) \n",
    "Presult = main()\n",
    "\n"
   ]
  },
  {
   "cell_type": "code",
   "execution_count": 9,
   "metadata": {
    "scrolled": true
   },
   "outputs": [
    {
     "data": {
      "text/plain": [
       "[[[array([0.99775715, 0.97207092, 0.84690373, 0.66088781]),\n",
       "   array([0.99701582, 0.96325704, 0.80645773, 0.59424328])],\n",
       "  [array([0.9895214 , 0.93380231, 0.79644117, 0.62830432]),\n",
       "   array([0.98609627, 0.913731  , 0.74590265, 0.55907856])]],\n",
       " [[array([0.99608111, 0.95703144, 0.7996882 , 0.59913025]),\n",
       "   array([0.99479115, 0.94377247, 0.75031143, 0.52888567])],\n",
       "  [array([0.98374203, 0.91215989, 0.75324719, 0.57221809]),\n",
       "   array([0.97847142, 0.88630318, 0.69606018, 0.50083705])]]]"
      ]
     },
     "execution_count": 9,
     "metadata": {},
     "output_type": "execute_result"
    }
   ],
   "source": [
    "Presult"
   ]
  },
  {
   "cell_type": "code",
   "execution_count": 10,
   "metadata": {},
   "outputs": [
    {
     "data": {
      "text/plain": [
       "['PSurvScanPP', '__globals__', '__header__', '__version__']"
      ]
     },
     "execution_count": 10,
     "metadata": {},
     "output_type": "execute_result"
    }
   ],
   "source": [
    "import scipy.io\n",
    "MT = scipy.io.loadmat('MT5.mat')\n",
    "sorted(MT.keys())"
   ]
  },
  {
   "cell_type": "code",
   "execution_count": 12,
   "metadata": {},
   "outputs": [
    {
     "data": {
      "text/plain": [
       "array([[[[0.99775715, 0.97207092, 0.84690373, 0.66088781],\n",
       "         [0.99701582, 0.96325704, 0.80645773, 0.59424328]],\n",
       "\n",
       "        [[0.9895214 , 0.93380231, 0.79644117, 0.62830432],\n",
       "         [0.98609627, 0.913731  , 0.74590265, 0.55907856]]],\n",
       "\n",
       "\n",
       "       [[[0.99608111, 0.95703144, 0.7996882 , 0.59913025],\n",
       "         [0.99479115, 0.94377247, 0.75031143, 0.52888567]],\n",
       "\n",
       "        [[0.98374203, 0.91215989, 0.75324719, 0.57221809],\n",
       "         [0.97847142, 0.88630318, 0.69606018, 0.50083705]]]])"
      ]
     },
     "execution_count": 12,
     "metadata": {},
     "output_type": "execute_result"
    }
   ],
   "source": [
    "m = MT['PSurvScanPP']\n",
    "m"
   ]
  },
  {
   "cell_type": "code",
   "execution_count": 13,
   "metadata": {},
   "outputs": [
    {
     "data": {
      "text/plain": [
       "(2, 2, 2, 4)"
      ]
     },
     "execution_count": 13,
     "metadata": {},
     "output_type": "execute_result"
    }
   ],
   "source": [
    "np.shape(Presult)"
   ]
  },
  {
   "cell_type": "code",
   "execution_count": 14,
   "metadata": {},
   "outputs": [
    {
     "data": {
      "text/plain": [
       "(2, 2, 2, 4)"
      ]
     },
     "execution_count": 14,
     "metadata": {},
     "output_type": "execute_result"
    }
   ],
   "source": [
    "np.shape(m)"
   ]
  },
  {
   "cell_type": "code",
   "execution_count": 16,
   "metadata": {},
   "outputs": [],
   "source": [
    "# m == Presult"
   ]
  },
  {
   "cell_type": "code",
   "execution_count": 17,
   "metadata": {},
   "outputs": [],
   "source": [
    "check = m-Presult"
   ]
  },
  {
   "cell_type": "code",
   "execution_count": 18,
   "metadata": {},
   "outputs": [],
   "source": [
    "TF = check < 0.000000000001"
   ]
  },
  {
   "cell_type": "code",
   "execution_count": 19,
   "metadata": {},
   "outputs": [
    {
     "data": {
      "text/plain": [
       "(array([], dtype=int64),\n",
       " array([], dtype=int64),\n",
       " array([], dtype=int64),\n",
       " array([], dtype=int64))"
      ]
     },
     "execution_count": 19,
     "metadata": {},
     "output_type": "execute_result"
    }
   ],
   "source": [
    "np.where(TF == False)"
   ]
  },
  {
   "cell_type": "code",
   "execution_count": null,
   "metadata": {},
   "outputs": [],
   "source": []
  }
 ],
 "metadata": {
  "kernelspec": {
   "display_name": "Python 3",
   "language": "python",
   "name": "python3"
  },
  "language_info": {
   "codemirror_mode": {
    "name": "ipython",
    "version": 3
   },
   "file_extension": ".py",
   "mimetype": "text/x-python",
   "name": "python",
   "nbconvert_exporter": "python",
   "pygments_lexer": "ipython3",
   "version": "3.7.3"
  }
 },
 "nbformat": 4,
 "nbformat_minor": 2
}
