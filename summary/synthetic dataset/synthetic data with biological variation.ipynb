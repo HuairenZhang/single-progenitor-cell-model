{
 "cells": [
  {
   "cell_type": "markdown",
   "metadata": {},
   "source": [
    "## Machine variables\n",
    "\n",
    "These variables are referenced by the code below and are machine specific- *you need to alter these for some functions to work!* \n",
    "\n",
    "The comments indicate what they should be set to and what they are used for."
   ]
  },
  {
   "cell_type": "code",
   "execution_count": 1,
   "metadata": {},
   "outputs": [],
   "source": [
    "import os\n",
    "import tempfile\n",
    "\n",
    "db_path = (\"sqlite:///\" +\n",
    "           os.path.join(tempfile.gettempdir(), \"test.db\"))"
   ]
  },
  {
   "cell_type": "markdown",
   "metadata": {},
   "source": [
    "## Load modules\n",
    "\n",
    "We use matplotlib for graphs, scipy and numpy for statistical functions and random distributions, and pyabc for inferring parameter sets. We additionally use line_profiler and memory_profiler to measure code performance."
   ]
  },
  {
   "cell_type": "code",
   "execution_count": 2,
   "metadata": {},
   "outputs": [],
   "source": [
    "import copy, random, functools, pickle, math\n",
    "import numpy as np\n",
    "import pandas as pd\n",
    "from multiprocessing import Pool\n",
    "from scipy import stats\n",
    "from functools import partial"
   ]
  },
  {
   "cell_type": "code",
   "execution_count": 3,
   "metadata": {},
   "outputs": [
    {
     "name": "stderr",
     "output_type": "stream",
     "text": [
      "/home/hz368/anaconda3/lib/python3.7/site-packages/dask/config.py:168: YAMLLoadWarning: calling yaml.load() without Loader=... is deprecated, as the default Loader is unsafe. Please read https://msg.pyyaml.org/load for full details.\n",
      "  data = yaml.load(f.read()) or {}\n",
      "/home/hz368/anaconda3/lib/python3.7/site-packages/distributed/config.py:20: YAMLLoadWarning: calling yaml.load() without Loader=... is deprecated, as the default Loader is unsafe. Please read https://msg.pyyaml.org/load for full details.\n",
      "  defaults = yaml.load(f)\n"
     ]
    }
   ],
   "source": [
    "%matplotlib inline\n",
    "\n",
    "from pyabc import (ABCSMC,\n",
    "                   RV, Distribution,\n",
    "                   MedianEpsilon,\n",
    "                   LocalTransition,\n",
    "                   AdaptivePNormDistance)\n",
    "from pyabc.visualization import plot_kde_2d\n",
    "import matplotlib.pyplot as plt\n",
    "import scipy as sp\n",
    "\n",
    "\n"
   ]
  },
  {
   "cell_type": "code",
   "execution_count": 4,
   "metadata": {},
   "outputs": [],
   "source": [
    "#load extensions\n",
    "%load_ext line_profiler\n",
    "%load_ext memory_profiler"
   ]
  },
  {
   "cell_type": "markdown",
   "metadata": {},
   "source": [
    "# Simulating cell fates\n",
    "\n",
    "![Dendrograms of cell fates](CellFate.png)\n",
    "\n",
    "The first behaviour we will simulate is fate determination of cells in a clone, starting from a single cell. This is the pattern of changing cell states as cells go on to divide. Examples of cell fates are drawn as dendrograms above. In (A), A cell divides, but neither daughter cell is a stem cell and so division stops. In (B), the divisions form a more complex (and unfinished pattern)- in the first division the cell fates are asymmetric giving one stem cell and one differentiated cell. That stem cell divides to give two stem cells, and so on until either all daughter cells in the clone divide becoming differentiated cells, or we stop the experiment\n",
    "\n",
    "In this specific situation we are only simulating the fates- that is to say, we know that division and stratification occur at different rates, but we are not taking account of that yet- we just record the order in which things happened in discrete time. Even without precise timings we expect the functions to give us some of the key properties of the clone growth. \n",
    "\n",
    "We define a clone through a record type, where we record when the clone was born (*birthtime*), when the cell left the clone (*lifeTime*), the random number generator used to determine the next fate (*rng*), whether the cell is a stem cell (*stem*) and the probability of dividing to give daughters with the same cell fate (*r*). We also include a list of other clones that the clone has given birth to (*sibling*), and an integer used to assign a unique identity to every cell created (*identity*). Note we have defined other elements in the record, which we use in future.\n",
    "\n",
    "The function *fateSimulate* simulates the life of a single cell. Given a clone record, a maximum number of divisions (*limit*), and a reference variable used to track unique identities (*idTrack*) it loops through events in the cells life, giving a final clone with some variables changed. \n",
    "\n",
    "In each loop fateSimulate first tests whether the cell has been simulated enough times, and if it has returning a modified version of the last state of the cell. This is either the last state with the lifetime set to the current time (and a Boolean variable, *survivor*, set to true to indicate this), or if the cell is not a stem cell at the end of the simulation, the last state with the lifetime set to the current time+1. \n",
    "\n",
    "Next, if the cell is still a stem cell, it creates a new daughter cell as a copy of the parent, with a new unique identity value. We then determine using r and a random number whether the daughter and parent are stem cells after division, defining a new cell to replace the parent and the daughter. Finally, we restart the loop using the replacement cell with the daughter added to the list of siblings.\n",
    "\n",
    "This however is not sufficient- we want to simulate all the daugter cells as well to see how the clone grows. To do this we define a recursive function *cloneSimulateInternal*, which simulates a single cell, then recursively runs on all of the daughter cells (and their daughter cells and so on), appending only the key information as a tuple to list reference. This function itself is run through *cloneSimulate*, which sorts the final list by unique identifier (this is important for later functions).\n",
    "\n",
    "Finally, the function *experiment* is defined which takes a list of discrete timepoints, runs cloneSimulate, and asks how many cells are alive at each time."
   ]
  },
  {
   "cell_type": "code",
   "execution_count": 5,
   "metadata": {},
   "outputs": [],
   "source": [
    "class cell:\n",
    "    def __init__(self,init,stem,r,rng):\n",
    "        self.currentTime = init\n",
    "        self.stem = stem\n",
    "        self.r = r\n",
    "        self.rng = rng\n",
    "        self.lifetime = 0\n",
    "        self.birthtime = self.currentTime\n",
    "        self.survivor = False\n",
    "        self.siblings = []\n",
    "    def printState(self):\n",
    "        response = \"Time\\t%d\\nStem\\t%r\\n\" % (self.currentTime, self.stem)\n",
    "        print(response)\n",
    "    def printParameters(self):\n",
    "        response = \"Lambda\\t%f\\nr\\t%f\\nrho\\t%f\\n\" % (self.lam, self.r, self.rho)\n",
    "        print(response)\n",
    "    def printHistory(self):\n",
    "        response = \"Siblings\\t%d\\tBirth\\t%f\\tDeath\\t%f\\n\" % (len(self.siblings), self.birthtime, self.lifetime)\n",
    "        print(response)\n",
    "        \n",
    "    def simulate(self,limit):\n",
    "        cont = True\n",
    "        while(cont):\n",
    "            if self.lifetime > 0:\n",
    "                cont = False\n",
    "            elif self.currentTime>limit:\n",
    "                if self.stem:\n",
    "                    self.survivor = True\n",
    "                    self.lifetime = self.currentTime\n",
    "                else:\n",
    "                    self.lifetime = self.currentTime+1\n",
    "                cont = False\n",
    "            else:\n",
    "                if self.stem:\n",
    "                    self.currentTime += 1\n",
    "                    sibling = cell(self.currentTime,self.stem,self.r,self.rng)\n",
    "                    rand = self.rng.random()\n",
    "                    if rand < self.r:\n",
    "                        pass\n",
    "                    elif rand < (self.r*2):\n",
    "                        self.stem = False\n",
    "                        sibling.stem = False\n",
    "                    else:\n",
    "                        sibling.stem = False\n",
    "                    self.siblings.append(sibling)\n",
    "                else:\n",
    "                    self.currentTime += 1\n",
    "                    self.lifetime = self.currentTime\n",
    "    \n",
    "'''\n",
    "Simulates a cell up to an event limit, storing the discrete times only\n",
    "'''\n",
    "def cloneSimulateDiscreteTime(i,limit,acc):\n",
    "    i.simulate(limit)\n",
    "    acc.append((i.birthtime,i.lifetime))\n",
    "    for s in i.siblings:\n",
    "        cloneSimulateDiscreteTime(s,limit,acc)\n",
    "    return(acc)\n",
    "\n",
    "'''\n",
    "Simulates a cell up to an event limit, storing the cell as result\n",
    "'''\n",
    "def corecloneSimulateComplete(i,acc,parent,nameMarker,limit):\n",
    "        i.simulate(limit)\n",
    "        #update namemarker for a unique name\n",
    "        nameMarker[0]+=1\n",
    "        name = nameMarker[0]\n",
    "        acc.append((i.birthtime,i.lifetime,parent,i.survivor)) #Switching to numpy array here leads to a 20x slowdown!\n",
    "        for s in i.siblings:\n",
    "            corecloneSimulateComplete(s,acc,name,nameMarker,limit)\n",
    "        return((acc)) #adding np.asarray gives 20x slowdown\n",
    "def cloneSimulateComplete(i,limit):\n",
    "    return(corecloneSimulateComplete(i,[],-1,[-1],limit))\n",
    "\n",
    "def experimentDiscreteTime(c,timePoints):\n",
    "    limit = max(timePoints)\n",
    "    lifespans = cloneSimulateDiscreteTime(c,limit,[])\n",
    "    def within(a,b,c):\n",
    "        if c>a and c<=b:\n",
    "            return(1)\n",
    "        else:\n",
    "            return(0)\n",
    "    return([sum([within(b,d,t) for (b,d) in lifespans]) for t in timePoints])\n",
    "    \n",
    "\n",
    "def printClone(c):\n",
    "    def core(c,d):\n",
    "        print(\"Gen\\t%d\" % d)\n",
    "        c.printHistory()\n",
    "        for i in c.siblings:\n",
    "            core(i,d+1)\n",
    "    core(c,0)\n",
    "\n",
    "def seedExperiment(i):\n",
    "    random.seed(i)\n",
    "    return(experimentDiscreteTime(cell(0,True,0.25,random),[2,4,8,10,30,50,100]))\n",
    "\n",
    "#uni = uniformGenerate(1982,None)\n",
    "def seedClone(i):\n",
    "    random.seed(i)\n",
    "    return(cloneSimulateComplete(cell(0,True,0.25,random),100))"
   ]
  },
  {
   "cell_type": "markdown",
   "metadata": {},
   "source": [
    "# Converting clone lifespan to realistic times\n",
    "\n",
    "The fate simulator is able to generate the orders of events in a clones lifetime, but in order to compare this with experimental data we need to use the outputs from that function, and transform them into floating point numbers that reflect the division and stratification rates. The most common way to do this is to draw the division times from an exponential distribution characterised by its mean, but we also know that the exponential distribution is unrealistic for cell division times. Here we explore two alternative distributions used in the literature; a short, deterministic delay (the delay or refractory period) followed by an exponential distribution, and a deterministic lag period followed by times selected from a gamma distribution (with an additional shape parameter). As the exponential distribution is a special case of the gamma distribution where the shape is 1., we can focus on using just the gamma distribution when we start to compare with experimental data.\n",
    "\n",
    "We first define functions that allow us to set create a random number generator for a given distribution with a specific set of parameters (using the numpy library to generate the underlying distribution). In each case the overall mean time for events to occur and a random number generator is passed to the function. In addition to this, a delay may be passed (either as an absolute delay, or expressed as a fraction of the mean) and a shape parameter. In each case the object returned is a function that takes unit as an input and returns a new floating point number from the distribution.\n",
    "\n",
    "In each case we use an object that preallocates a large number of random numbers (*total*) and defines functions that return one, or an array of random numbers of a specified size, cumulatively summed. The functions that return values determine whether the store of numbers will run out and regenerates a set periodically. This is written like this for performance purposes. "
   ]
  },
  {
   "cell_type": "code",
   "execution_count": 6,
   "metadata": {},
   "outputs": [],
   "source": [
    "class timeGenerate:\n",
    "    def __init__(self,seed,params):\n",
    "        np.random.seed(seed)\n",
    "        self.total = 10000000\n",
    "        self.params = params\n",
    "        self.validate()\n",
    "        #Generate \"total\" times\n",
    "        self.regenerate()\n",
    "    def regenerate(self):\n",
    "        self.precalculated = np.ones(self.total)\n",
    "        self.position = 0\n",
    "    def next(self,n=1):\n",
    "        if (n+self.position>self.total):\n",
    "            self.regenerate()\n",
    "            return(self.next(n))\n",
    "        else:\n",
    "            result = np.cumsum(self.precalculated[self.position:self.position+n])\n",
    "            self.position+=n\n",
    "            return(result)\n",
    "    def nextOne(self):\n",
    "        if (1+self.position>self.total):\n",
    "            self.regenerate()\n",
    "            return(self.nextOne())\n",
    "        else:\n",
    "            result = self.precalculated[self.position]\n",
    "            self.position+=1\n",
    "            return(result)\n",
    "    def nextTerminated(self,n=1,terminator=None):\n",
    "        if (n+self.position>self.total):\n",
    "            self.regenerate()\n",
    "            return(self.next(n))\n",
    "        else:\n",
    "            times = self.precalculated[self.position:self.position+n]\n",
    "            #This replaces a value! it will not be reused and eventually will be regenerated though\n",
    "            times[-1] = terminator.nextOne()\n",
    "            result = np.cumsum(times)\n",
    "            self.position+=n\n",
    "            return(result)\n",
    "    def validate(self):\n",
    "        pass\n",
    "    def drawTimes(self,limit):\n",
    "        counter = 0\n",
    "        totalTime=0\n",
    "        while(totalTime<limit):\n",
    "            totalTime+=self.precalculated[self.position+counter]\n",
    "            counter+=1\n",
    "            if counter+self.position>self.total:\n",
    "                self.regenerate()\n",
    "                return(self.drawtimes(limit))\n",
    "        return(self.next(counter))\n",
    "        \n",
    "\n",
    "class halfTime(timeGenerate):\n",
    "    def regenerate(self):\n",
    "        self.precalculated = np.ones(self.total)/2\n",
    "        self.position = 0\n",
    "        \n",
    "class exponentialGenerate(timeGenerate):\n",
    "    def regenerate(self):\n",
    "        (mean) = self.params\n",
    "        self.precalculated = np.random.exponential(mean,self.total)\n",
    "        #draw samples from an exponential distribution\n",
    "        self.position = 0\n",
    "\n",
    "class uniformGenerate(timeGenerate):\n",
    "    def regenerate(self):\n",
    "        #(lower,upper) = self.params\n",
    "        self.precalculated = np.random.uniform(0,1,self.total)\n",
    "        #draw samples from a uniform distribution\n",
    "        self.position = 0\n",
    "\n",
    "class exponentialGenerateDelay(timeGenerate):\n",
    "    def regenerate(self):\n",
    "        (mean,delay) = self.params\n",
    "        self.precalculated = np.random.exponential((mean-delay),self.total)+delay\n",
    "        self.position = 0\n",
    "    def validate(self):\n",
    "        assert(self.params[0]>self.params[1])\n",
    "\n",
    "class gammaGenerate(timeGenerate):\n",
    "    def regenerate(self):\n",
    "        (shape,scale) = self.params\n",
    "        self.precalculated = np.random.gamma(shape,scale,self.total)\n",
    "        #draw samples from a gamma distribution\n",
    "        self.position = 0\n",
    "\n",
    "class gammaGenerateDelay(timeGenerate):\n",
    "    def regenerate(self):\n",
    "        (mean,shape,delay) = self.params\n",
    "        scale = (mean-delay)/shape\n",
    "        self.precalculated = np.random.gamma(shape,scale,self.total)+delay\n",
    "        self.position = 0\n",
    "    def validate(self):\n",
    "        assert(self.params[0]>self.params[2])\n",
    "\n",
    "#More elegant way of expressing the delay\n",
    "class gammaGenerateFractionalDelay(timeGenerate):\n",
    "    def regenerate(self):\n",
    "        (mean,shape,delay) = self.params\n",
    "        scale = (mean*(1-delay))/shape\n",
    "        self.precalculated = np.random.gamma(shape,scale,self.total)+delay*mean\n",
    "        self.position = 0\n",
    "    def validate(self):\n",
    "        assert(0<=self.params[2])\n",
    "        assert(self.params[2]<=1)"
   ]
  },
  {
   "cell_type": "markdown",
   "metadata": {},
   "source": [
    "## Converting discrete time to real time\n",
    "\n",
    "The function *correctTime* below takes two random number generator objects (of the type we have just defined above), an initial time, and an array of tuples generated by the cloneSimulate function defined above. It returns a new array with the time of birth and the time of loss of the cell. \n",
    "\n",
    "To do this we first generate an array with random numbers drawn from the function representing the division times. If the cell stratifies we replace the last number in the array with a value drawn from the function representing stratification times. Finally, we perform a cumulative sum so that all elements represent the times taken for each event to happen from an initial timepoint (here arbitrarily set to zero).\n",
    "\n",
    "This gives us a series of timepoints that are accurate relative to the time when the cell was first born. However, we need the times to be relative to the start of the experiment to be useful. To do this for each cell we need to look at the times of its parent (and in turn, its parents and grandparents until the original cell) and adjust all the timepoints by the time the cell was born. Uniquely, the original cell has a parent set to a negative value and if this is found in the loop, the initial time is set to the value passed when calling the function.\n",
    "\n",
    "As an example, we want to generate times for the third cell in a clone. The third cell is a daughter of the first. The discrete times are \n",
    "\n",
    "cell 1 born @ 0, lost @ 3\n",
    "cell 3 born @ 1, lost @ 2\n",
    "\n",
    "This will give us initially two arrays of timepoints;\n",
    "\n",
    "cell1 = [|0.;0.5;1.0;1.5;|]\n",
    "cell3 = [|0.;1.0|]\n",
    "\n",
    "For cell 3, assuming that the initial time of the experiment was 0 (so cell 1 remains unchanged), we then need to add 0.5 (the first time from cell 1) to every timepoint. We get this by using the discrete birthtime as an index in the array. Finally, we return the first and last elements of the new array as the time of birth and the time of death; 0.5 and 1.5.\n",
    "\n",
    "This relies on being able to look up the parent time. Earlier we sorted the array returned by cloneSimulate by the unique identifier- this allows us to use the parent id (stored in the tuple) as an index in the original search. It also ensures that we correct the times in order of cell creation- this is important as when we correct the times we mutate the values in the original array, and ensures that we have always corrected the parents before we update their children. \n",
    "\n",
    "We now have enough information to directly compare our results with lineage tracing data."
   ]
  },
  {
   "cell_type": "code",
   "execution_count": 7,
   "metadata": {},
   "outputs": [],
   "source": [
    "def correctTime(c,initial,division,stratification,limit):\n",
    "    eventTimes = [((division.next(d-b),b,d,p) if s else (division.nextTerminated(d-b,terminator=stratification),b,d,p) ) for (b,d,p,s) in c ]\n",
    "    \n",
    "    def includeBirth(times,birthday,deathday,parent):\n",
    "        if parent<0:\n",
    "            #special case- the initial cell\n",
    "            times+=initial\n",
    "            return((initial,times[-1])) \n",
    "        else:\n",
    "            parentBirthday = eventTimes[parent][1]\n",
    "            timeOnBirth=eventTimes[parent][0][birthday-parentBirthday-1]\n",
    "            if(len(times)):\n",
    "                times+=timeOnBirth\n",
    "                return( (timeOnBirth, times[-1] ) )\n",
    "            else:\n",
    "                return((timeOnBirth,math.inf))\n",
    "    acc = [includeBirth(times,birthday,deathday,parent) for (times,birthday,deathday,parent) in eventTimes] \n",
    "    return(acc)"
   ]
  },
  {
   "cell_type": "markdown",
   "metadata": {},
   "source": [
    "### Exploring the data\n",
    "\n",
    "We showed that the simulations showed a linear growth in average clone size over time. Here we repeat the test on the experimental data."
   ]
  },
  {
   "cell_type": "code",
   "execution_count": 8,
   "metadata": {},
   "outputs": [],
   "source": [
    "def getLineage(filename):\n",
    "    #reads a tsv file of clone counts\n",
    "    df = pd.read_csv(filename, sep=\"\\t\")\n",
    "    counts = np.transpose(df.values).astype(float)\n",
    "    header = df.columns.values\n",
    "    return(header[1:].astype(float),counts[1:])"
   ]
  },
  {
   "cell_type": "code",
   "execution_count": 9,
   "metadata": {},
   "outputs": [],
   "source": [
    "times, counts = getLineage(\"DoupeAggregate.tsv\")"
   ]
  },
  {
   "cell_type": "code",
   "execution_count": 10,
   "metadata": {},
   "outputs": [],
   "source": [
    "def sizesToFreq(sizes):\n",
    "    biggest = max([max(c) for c in sizes])\n",
    "    sizeList = [[t.count(s+1) for s in range(biggest)] for t in sizes]\n",
    "    # countPerTimePoint = [sum(s) for s in sizeList]\n",
    "    # logFreq = [[0 if total==0 or item==0 else math.log10(item/total) for item in n] for n,total in zip(sizeList,countPerTimePoint)]\n",
    "    return(sizeList)\n",
    "    \n",
    "def fateToFreq(timePoints,fates,generations,div,strat):\n",
    "    times = np.asarray([np.asarray(correctTime(c,0,div,strat,generations)) for c in fates])\n",
    "    def within(birth,death,time):\n",
    "        if time>=birth and time<death:\n",
    "            return(1)\n",
    "        else:\n",
    "            return(0)\n",
    "    cloneSizes = [[sum([within(cell[0],cell[1],t) for cell in clone]) for clone in times ] for t in timePoints]\n",
    "    freq = sizesToFreq(cloneSizes)\n",
    "    return(freq)\n",
    "\n",
    "def timeCorrect(rho,meanDivTime,timePoints,fates,generations,div):\n",
    "    stratTime = (1-rho)*meanDivTime/rho\n",
    "    strat = exponentialGenerate(1,(stratTime)) \n",
    "    counts = fateToFreq(timePoints,fates,generations,div,strat)\n",
    "    return(counts)\n",
    "\n",
    "def cellFateGenerate(timePoints,r,rho,sampleSize,meanDivTime,seed):\n",
    "    random.seed(seed)\n",
    "    generations = 230 \n",
    "    div = exponentialGenerate(102,(meanDivTime))\n",
    "    def seedWrapper(r,generations,seed):\n",
    "        random.seed(seed)\n",
    "        clone = cell(0,True,r,random)\n",
    "        return(cloneSimulateComplete(clone,generations))\n",
    "    fates = np.asarray( [np.asarray(seedWrapper(r,generations,i)) for i in range(sampleSize)] )\n",
    "    def within(birth,death,time):\n",
    "        if time>=birth and time<death:\n",
    "            return(1)\n",
    "        else:\n",
    "            return(0)\n",
    "    cloneSizes = [[sum([within(b,d,t/meanDivTime) for (b,d,p,s) in clone]) for clone in fates ] for t in timePoints]\n",
    "    return(timeCorrect(rho,meanDivTime,timePoints,fates,generations,div))\n",
    "    \n",
    "def parameterLike(timePoints, N):\n",
    "    rVals = np.random.normal(0.08, 0.02, N)\n",
    "    print('r values:')\n",
    "    print(rVals)\n",
    "    rhoVals = np.random.normal(0.7, 0.1, N)\n",
    "    print('rho values:')\n",
    "    print(rhoVals)\n",
    "    lambdaVals = np.random.normal(2.85, 0.15, N)\n",
    "    print('lambda values:')\n",
    "    print(lambdaVals)\n",
    "    meanDivTime = 7/lambdaVals\n",
    "    sampleSize = 100\n",
    "    result = [np.array(cellFateGenerate(timePoints,rVals[i],rhoVals[i],sampleSize,meanDivTime[i],i)) for i in range(N)]\n",
    "    return(result)"
   ]
  },
  {
   "cell_type": "code",
   "execution_count": 11,
   "metadata": {
    "scrolled": true
   },
   "outputs": [
    {
     "name": "stdout",
     "output_type": "stream",
     "text": [
      "r values:\n",
      "[0.06393048 0.08941203 0.10516728 0.10241153 0.07451607 0.05101904\n",
      " 0.0780496  0.07705409 0.07960823 0.0686926  0.06561286 0.08012001\n",
      " 0.0789285  0.0542216  0.09383104 0.11184705 0.05795489 0.07528092\n",
      " 0.07408584 0.06313935 0.09169681 0.06995659 0.04402088 0.14595426\n",
      " 0.07823405 0.07376387 0.06897679 0.0600615  0.0844953  0.04774225\n",
      " 0.06535431 0.07699548 0.08989858 0.07211475 0.04892181 0.07412038\n",
      " 0.07645538 0.10391074 0.04988243 0.08034966 0.07181165 0.06877169\n",
      " 0.08592448 0.08592583 0.07320926 0.05277136 0.09396544 0.11943752\n",
      " 0.03870737 0.0765931  0.08556089 0.0696761  0.06141998 0.08908314\n",
      " 0.07215493 0.11145917 0.06406205 0.06618903 0.07318335 0.10396899\n",
      " 0.07999998 0.07034829 0.05493459 0.07796046 0.0538814  0.0811042\n",
      " 0.08234487 0.11444953 0.07901333 0.07402291]\n",
      "rho values:\n",
      "[0.94484994 0.88830318 0.61917261 0.52262794 0.62392055 0.78608647\n",
      " 0.62312003 0.79626328 0.77566231 0.77902576 0.65472232 0.83727115\n",
      " 0.77654068 0.79925806 0.60279147 0.69500568 0.65211485 0.70350357\n",
      " 0.52312358 0.85079694 0.68098384 0.70851157 0.55565257 0.64075326\n",
      " 0.65688515 0.83694788 0.79967731 0.67902649 0.72750625 0.69585035\n",
      " 0.74040427 0.80653636 0.72861572 0.63310029 0.68770599 0.69784979\n",
      " 0.70720122 0.68702111 0.68137827 0.60758469 0.76842093 0.5750102\n",
      " 0.82363911 0.52698987 0.69259583 0.60107057 0.53712374 0.85239473\n",
      " 0.81720741 0.73022722 0.80383224 0.73947883 0.70881544 0.69968797\n",
      " 0.77305368 0.53598422 0.7871065  0.75484174 0.75355063 0.64173006\n",
      " 0.59591215 0.82338752 0.47172877 0.77711514 0.72616212 0.68599136\n",
      " 0.74254158 0.89270893 0.80088096 0.63972819]\n",
      "lambda values:\n",
      "[2.94759708 2.91317246 2.93470997 2.92315155 2.80711423 2.80305452\n",
      " 2.97873356 3.05334145 2.83666826 2.89726858 3.03335746 3.02218674\n",
      " 2.8730833  2.74161801 3.0020709  2.75235938 2.81251678 2.88446578\n",
      " 2.76550179 2.80239924 2.82518075 2.81708698 2.54446629 3.04860748\n",
      " 2.80193066 2.62767912 2.99906127 2.5661353  2.94883499 2.86721158\n",
      " 2.94388249 2.789792   2.9781028  2.711764   2.71861908 2.7406758\n",
      " 2.96733271 2.83953048 2.89072952 2.98395436 2.88379933 3.03698841\n",
      " 2.69130647 2.80560054 2.59986673 2.83826964 3.01480092 2.74614435\n",
      " 2.72653703 2.63380363 2.71937467 2.70753682 2.85664942 2.90013209\n",
      " 2.57350457 2.76793131 2.8686286  2.93542807 3.01747699 2.75802541\n",
      " 3.01990852 2.81046851 2.64121008 2.77041052 2.86458258 2.74947839\n",
      " 2.71175051 2.71247101 2.78787179 2.80638532]\n",
      "CPU times: user 1min 56s, sys: 5.01 s, total: 2min 1s\n",
      "Wall time: 2min 1s\n"
     ]
    }
   ],
   "source": [
    "# syn = [[np.zeros(len(np.transpose(counts))) for t in range(len(counts))] for sample in range(21)]\n",
    "mouse = 10\n",
    "%time syn = parameterLike(times, mouse*len(times))"
   ]
  },
  {
   "cell_type": "code",
   "execution_count": 15,
   "metadata": {},
   "outputs": [],
   "source": [
    "maxCloneSize = max([len(np.transpose(i)) for i in syn])"
   ]
  },
  {
   "cell_type": "code",
   "execution_count": 16,
   "metadata": {},
   "outputs": [],
   "source": [
    "# syn[1]"
   ]
  },
  {
   "cell_type": "code",
   "execution_count": 17,
   "metadata": {},
   "outputs": [],
   "source": [
    "# the syn includes the data of 21 mouse (M) generated from simulation.\n",
    "# simWithVar picks specific data at specific timepoint of specific mouse (M) to generate the final synthetic data to be used to find (r,rho)\n",
    "# M0, M7, M14 for t0\n",
    "# M1, M8, M15 for t1\n",
    "# M2, M9, M16 for t2\n",
    "# M3, M10, M17 for t3\n",
    "# M4, M11, M18 for t4\n",
    "# M5, M12, M19 for t5\n",
    "# M6, M13, M20 for t6\n",
    "n=maxCloneSize\n",
    "simWithVar = [np.zeros(n) for t in range(7)]\n",
    "for i in range(7):\n",
    "    simWithVar[i][:] = np.array(np.append(syn[i][i][:], np.zeros(n-len(syn[i][i]))) + \\\n",
    "                        np.append(syn[i+7][i][:], np.zeros(n-len(syn[i+7][i]))) + \\\n",
    "                        np.append(syn[i+14][i][:], np.zeros(n-len(syn[i+14][i]))) \\\n",
    "                        + np.append(syn[i+21][i][:], np.zeros(n-len(syn[i+21][i]))) + \\\n",
    "                        np.append(syn[i+28][i][:], np.zeros(n-len(syn[i+28][i]))) + \\\n",
    "                        np.append(syn[i+35][i][:], np.zeros(n-len(syn[i+35][i]))) + \\\n",
    "                        np.append(syn[i+42][i][:], np.zeros(n-len(syn[i+42][i]))) + \\\n",
    "                        np.append(syn[i+49][i][:], np.zeros(n-len(syn[i+49][i]))) + \\\n",
    "                        np.append(syn[i+56][i][:], np.zeros(n-len(syn[i+56][i]))) + \\\n",
    "                        np.append(syn[i+63][i][:], np.zeros(n-len(syn[i+63][i]))) \\\n",
    "                        )"
   ]
  },
  {
   "cell_type": "code",
   "execution_count": 18,
   "metadata": {},
   "outputs": [
    {
     "data": {
      "text/plain": [
       "(7, 95)"
      ]
     },
     "execution_count": 18,
     "metadata": {},
     "output_type": "execute_result"
    }
   ],
   "source": [
    "np.shape(simWithVar)"
   ]
  },
  {
   "cell_type": "code",
   "execution_count": 19,
   "metadata": {},
   "outputs": [],
   "source": [
    "# simWithVar"
   ]
  },
  {
   "cell_type": "code",
   "execution_count": 20,
   "metadata": {},
   "outputs": [],
   "source": [
    "pickle_out = open(\"pickled_10_mice\",\"wb\")\n",
    "pickle.dump(simWithVar, pickle_out)\n",
    "pickle_out.close()"
   ]
  },
  {
   "cell_type": "code",
   "execution_count": 21,
   "metadata": {},
   "outputs": [
    {
     "data": {
      "text/plain": [
       "[<matplotlib.lines.Line2D at 0x7f1bceea8908>]"
      ]
     },
     "execution_count": 21,
     "metadata": {},
     "output_type": "execute_result"
    },
    {
     "data": {
      "image/png": "[encoded data removed]",
      "text/plain": [
       "<Figure size 432x288 with 1 Axes>"
      ]
     },
     "metadata": {
      "needs_background": "light"
     },
     "output_type": "display_data"
    }
   ],
   "source": [
    "averageClone = np.array([sum([(size+1)*number for (size,number) in enumerate(t)])/sum(t)  for t in simWithVar])\n",
    "plt.plot(times,averageClone)"
   ]
  },
  {
   "cell_type": "code",
   "execution_count": 22,
   "metadata": {},
   "outputs": [],
   "source": [
    "# gamRate = gammaGenerateDelay(102,(2.4,8.,0.5))\n",
    "# %time g = calculateLineageLikelihood(gamRate,2.4,times)"
   ]
  },
  {
   "cell_type": "code",
   "execution_count": 23,
   "metadata": {},
   "outputs": [
    {
     "data": {
      "text/plain": [
       "0.044556198188354774"
      ]
     },
     "execution_count": 23,
     "metadata": {},
     "output_type": "execute_result"
    }
   ],
   "source": [
    "slope, intercept, rvalue, pvalue, stderr = stats.linregress(times,averageClone)\n",
    "\n",
    "slope"
   ]
  },
  {
   "cell_type": "code",
   "execution_count": null,
   "metadata": {},
   "outputs": [],
   "source": []
  }
 ],
 "metadata": {
  "kernelspec": {
   "display_name": "Python 3",
   "language": "python",
   "name": "python3"
  },
  "language_info": {
   "codemirror_mode": {
    "name": "ipython",
    "version": 3
   },
   "file_extension": ".py",
   "mimetype": "text/x-python",
   "name": "python",
   "nbconvert_exporter": "python",
   "pygments_lexer": "ipython3",
   "version": "3.7.3"
  }
 },
 "nbformat": 4,
 "nbformat_minor": 2
}
