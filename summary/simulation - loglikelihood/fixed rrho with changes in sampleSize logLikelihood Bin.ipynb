{
 "cells": [
  {
   "cell_type": "markdown",
   "metadata": {},
   "source": [
    "# Modelling and testing stem cell populations with Python\n",
    "\n",
    "## Introduction\n",
    "\n",
    "Stem cells maintain the structure of tissues and organs in the body. How they grow and divide is a subject of intensive study, but one concept has been explored heavily over the past decade and found to describe how the stem cell population is maintained in many different tissues.  In this tutorial we will give concrete examples of how to build simulators that explore how changing one part of the model alters cell growth, and compare the model behaviour against experimental data.\n",
    "\n",
    "![Schematic of single progenitor model](Cartoon.png)\n",
    "\n",
    "In this tutorial we are going to explore one part of the single progenitor model (depicted above). The model has two types of cell; stem cells and differentiated cells. Stem cells divide to give two daughter cells, which can either be one stem cell and one differentiated cell (asymmetric division), both stem cells, or both differentiated cells (symmetric division). As the population of stem cells is constant, the probability of both possible symmetric divisions is equal, so over time, on average, one stem cell gives one differentiated cell and one stem cell.\n",
    "\n",
    "In the past the division (sometimes written as $\\lambda$) and stratification (sometimes written as $\\Gamma$) times have been modelled as following an exponential distribution. Recent experiments have suggested that this is inappropriate and may bias our analysis. Here we will build simulators that use more complex distributions and see how they change the model behaviour by both direct comparison with experimental data and by exploring the general properties.\n",
    "\n",
    "This document has a parallel document written in F#, performing the same functions using different available libraries. Where sensible functions with the same task have the same name. By referring to both of them you can see how similar tasks can be accomplished in both languages.\n",
    "\n",
    "### Background biology\n",
    "\n",
    "Whilst this tutorial has been written to focus on aspects of the maths and programming, the code and text necessarily use a few technical terms. This section introduces some of them and how they are used here.\n",
    "\n",
    "A *cell* is the basic unit of living matter- it eats, divides, dies, and carries out functions specific to the tissue its in. The cell *fate* is the cells function, and in this model is determined on birth. This dictates what that cell can go on to do in the future. In this model, one cell fate is to be a *stem cell*. Stem cells will go on to divide at some point in the future. The *cell cycle* is the process that immediate proceeds division. This is expected to last an average length of time for a given cell type, but the distribution of times is not necessarily known. The alternative cell fate in this model is to *differentiate*; in this case the cell will stop dividing, and eventually leave the space that stem cells occupy by a process called *stratification*. \n",
    "\n",
    "A *clone* is the set of descendants from a single cell at a specific point in time. These could be defined by a natural event- such as a mutation- or a result of an experiment. A common experiment known as *lineage tracing* is to monitor the size of clones in growing tissues is to add an *inheritable*, permenant coloured label to cells at a specific timepoint. As the label is inheritable all of the cells in a clone will carry it, and can be distinguished and counted under a microscope.\n",
    "\n",
    "Another type of labelling experiment involves the use of a *histone* label. This label is switched on during the experiment similar to lineage tracing. However, the labelled histone stops being produced after the experiment is started, though cells continue to produce unlabelled histones. This means that every time the cell divides the amount of label halves, allowing cell divisions to be tracked over time.\n",
    "\n",
    "## Plan and constraints\n",
    "\n",
    "In this document we will present code to do 4 different tasks:\n",
    "\n",
    "1. Simulate cell fates to show how clones compete neutrally to dominate the tissue\n",
    "2. Take the results of those simulations and study the effect of different cell-cycle time distributions by generating random numbers taken from different distributions.\n",
    "3. Simulate an experiment where a label becomes more dilute every time a cell divides\n",
    "4. Use this simulator with an ''Approximate Bayesian Computation'' based analysis to find out which distribution best describes some collected data.\n",
    "\n",
    "In doing so we will look to report and plot data as a we go along to confirm that different parts of the code are working. Wherever possible we use external libraries to perform calculations rather than reimplement the functions.\n",
    "\n",
    "We also specify a seed for random number generation for calculations. This is to help ensure repeatability."
   ]
  },
  {
   "cell_type": "markdown",
   "metadata": {},
   "source": [
    "## Machine variables\n",
    "\n",
    "These variables are referenced by the code below and are machine specific- *you need to alter these for some functions to work!* \n",
    "\n",
    "The comments indicate what they should be set to and what they are used for."
   ]
  },
  {
   "cell_type": "code",
   "execution_count": 1,
   "metadata": {},
   "outputs": [],
   "source": [
    "import os\n",
    "import tempfile\n",
    "\n",
    "db_path = (\"sqlite:///\" +\n",
    "           os.path.join(tempfile.gettempdir(), \"test.db\"))"
   ]
  },
  {
   "cell_type": "markdown",
   "metadata": {},
   "source": [
    "## Load modules\n",
    "\n",
    "We use matplotlib for graphs, scipy and numpy for statistical functions and random distributions, and pyabc for inferring parameter sets. We additionally use line_profiler and memory_profiler to measure code performance."
   ]
  },
  {
   "cell_type": "code",
   "execution_count": 2,
   "metadata": {},
   "outputs": [],
   "source": [
    "#import modules, which consist of python command\n",
    "import copy, random, functools, pickle, math\n",
    "import numpy as np\n",
    "import pandas as pd\n",
    "from multiprocessing import Pool\n",
    "from scipy import stats\n",
    "from functools import partial"
   ]
  },
  {
   "cell_type": "code",
   "execution_count": 3,
   "metadata": {},
   "outputs": [
    {
     "name": "stderr",
     "output_type": "stream",
     "text": [
      "/home/hz368/anaconda3/lib/python3.7/site-packages/dask/config.py:168: YAMLLoadWarning: calling yaml.load() without Loader=... is deprecated, as the default Loader is unsafe. Please read https://msg.pyyaml.org/load for full details.\n",
      "  data = yaml.load(f.read()) or {}\n",
      "/home/hz368/anaconda3/lib/python3.7/site-packages/distributed/config.py:20: YAMLLoadWarning: calling yaml.load() without Loader=... is deprecated, as the default Loader is unsafe. Please read https://msg.pyyaml.org/load for full details.\n",
      "  defaults = yaml.load(f)\n"
     ]
    }
   ],
   "source": [
    "%matplotlib inline\n",
    "\n",
    "from pyabc import (ABCSMC,\n",
    "                   RV, Distribution,\n",
    "                   MedianEpsilon,\n",
    "                   LocalTransition,\n",
    "                   AdaptivePNormDistance)\n",
    "from pyabc.visualization import plot_kde_2d\n",
    "import matplotlib.pyplot as plt\n",
    "import scipy as sp\n",
    "\n",
    "\n"
   ]
  },
  {
   "cell_type": "code",
   "execution_count": 4,
   "metadata": {},
   "outputs": [],
   "source": [
    "#load extensions\n",
    "%load_ext line_profiler\n",
    "%load_ext memory_profiler"
   ]
  },
  {
   "cell_type": "markdown",
   "metadata": {},
   "source": [
    "# Simulating cell fates\n",
    "\n",
    "![Dendrograms of cell fates](CellFate.png)\n",
    "\n",
    "The first behaviour we will simulate is fate determination of cells in a clone, starting from a single cell. This is the pattern of changing cell states as cells go on to divide. Examples of cell fates are drawn as dendrograms above. In (A), A cell divides, but neither daughter cell is a stem cell and so division stops. In (B), the divisions form a more complex (and unfinished pattern)- in the first division the cell fates are asymmetric giving one stem cell and one differentiated cell. That stem cell divides to give two stem cells, and so on until either all daughter cells in the clone divide becoming differentiated cells, or we stop the experiment\n",
    "\n",
    "In this specific situation we are only simulating the fates- that is to say, we know that division and stratification occur at different rates, but we are not taking account of that yet- we just record the order in which things happened in discrete time. Even without precise timings we expect the functions to give us some of the key properties of the clone growth. \n",
    "\n",
    "We define a clone through a record type, where we record when the clone was born (*birthtime*), when the cell left the clone (*lifeTime*), the random number generator used to determine the next fate (*rng*), whether the cell is a stem cell (*stem*) and the probability of dividing to give daughters with the same cell fate (*r*). We also include a list of other clones that the clone has given birth to (*sibling*), and an integer used to assign a unique identity to every cell created (*identity*). Note we have defined other elements in the record, which we use in future.\n",
    "\n",
    "The function *fateSimulate* simulates the life of a single cell. Given a clone record, a maximum number of divisions (*limit*), and a reference variable used to track unique identities (*idTrack*) it loops through events in the cells life, giving a final clone with some variables changed. \n",
    "\n",
    "In each loop fateSimulate first tests whether the cell has been simulated enough times, and if it has returning a modified version of the last state of the cell. This is either the last state with the lifetime set to the current time (and a Boolean variable, *survivor*, set to true to indicate this), or if the cell is not a stem cell at the end of the simulation, the last state with the lifetime set to the current time+1. \n",
    "\n",
    "Next, if the cell is still a stem cell, it creates a new daughter cell as a copy of the parent, with a new unique identity value. We then determine using r and a random number whether the daughter and parent are stem cells after division, defining a new cell to replace the parent and the daughter. Finally, we restart the loop using the replacement cell with the daughter added to the list of siblings.\n",
    "\n",
    "This however is not sufficient- we want to simulate all the daugter cells as well to see how the clone grows. To do this we define a recursive function *cloneSimulateInternal*, which simulates a single cell, then recursively runs on all of the daughter cells (and their daughter cells and so on), appending only the key information as a tuple to list reference. This function itself is run through *cloneSimulate*, which sorts the final list by unique identifier (this is important for later functions).\n",
    "\n",
    "Finally, the function *experiment* is defined which takes a list of discrete timepoints, runs cloneSimulate, and asks how many cells are alive at each time."
   ]
  },
  {
   "cell_type": "code",
   "execution_count": 5,
   "metadata": {},
   "outputs": [],
   "source": [
    "'''\n",
    "A cell should update to divide and die. As we can only count living cells, \n",
    "we only need to measure the lifetime of a cell or experiment, and store its \n",
    "siblings.\n",
    "\n",
    "For the whole clone size, each of the siblings need to be simulated to their\n",
    "stratification or the end of the experiment.\n",
    "\n",
    "The cell updates in discrete time, with an aim that randomly generated times \n",
    "are projected back on a cohort a posteri to reduce calculation times.\n",
    "'''\n",
    "        \n",
    "class cell:\n",
    "    def __init__(self,init,stem,r,rng):\n",
    "        self.currentTime = init\n",
    "        self.stem = stem\n",
    "        self.r = r\n",
    "        self.rng = rng\n",
    "        self.lifetime = 0\n",
    "        self.birthtime = self.currentTime\n",
    "        self.survivor = False\n",
    "        self.siblings = []\n",
    "    def printState(self):\n",
    "        response = \"Time\\t%d\\nStem\\t%r\\n\" % (self.currentTime, self.stem)\n",
    "        print(response)\n",
    "    def printParameters(self):\n",
    "        response = \"Lambda\\t%f\\nr\\t%f\\nrho\\t%f\\n\" % (self.lam, self.r, self.rho)\n",
    "        print(response)\n",
    "    def printHistory(self):\n",
    "        response = \"Siblings\\t%d\\tBirth\\t%f\\tDeath\\t%f\\n\" % (len(self.siblings), self.birthtime, self.lifetime)\n",
    "        print(response)\n",
    "    #\\t: tab\n",
    "    #%d: digit number output\n",
    "    #%f: float number output\n",
    "    #\\n: new line\n",
    "        \n",
    "    def simulate(self,limit):\n",
    "        cont = True\n",
    "        while(cont):\n",
    "            if self.lifetime > 0:\n",
    "                cont = False\n",
    "            elif self.currentTime>limit:\n",
    "                #End experiment- lifetime set to currenttime+1 if not a stem cell, currenttime if stem with surv bool set\n",
    "                #Infinity is inappropriate as its a float, so setting lifetime to current time\n",
    "                #If a clone has infinity *before* the last experimental timepoint, the simulation needs extension\n",
    "                if self.stem:\n",
    "                    self.survivor = True\n",
    "                    self.lifetime = self.currentTime\n",
    "                else:\n",
    "                    self.lifetime = self.currentTime+1\n",
    "                cont = False\n",
    "            else:\n",
    "                if self.stem:\n",
    "                    self.currentTime += 1\n",
    "                    sibling = cell(self.currentTime,self.stem,self.r,self.rng)\n",
    "                    rand = self.rng.random()\n",
    "                    if rand < self.r:\n",
    "                        pass\n",
    "                    elif rand < (self.r*2):\n",
    "                        self.stem = False\n",
    "                        sibling.stem = False\n",
    "                    else:\n",
    "                        sibling.stem = False\n",
    "                    self.siblings.append(sibling)\n",
    "                else:\n",
    "                    self.currentTime += 1\n",
    "                    self.lifetime = self.currentTime\n",
    "    #rand < r: p = r, two stem cells are produced\n",
    "    #r < rand < 2r: p = r, two differentiated cells are produced\n",
    "    #2r < rand <1: p = 1-2r, one stem cell and one differentiated cells are produced\n",
    "\n",
    "    \n",
    "'''\n",
    "Simulates a cell up to an event limit, storing the discrete times only\n",
    "'''\n",
    "def cloneSimulateDiscreteTime(i,limit,acc):\n",
    "    i.simulate(limit)\n",
    "    acc.append((i.birthtime,i.lifetime))\n",
    "    for s in i.siblings:\n",
    "        cloneSimulateDiscreteTime(s,limit,acc)\n",
    "    return(acc)\n",
    "\n",
    "'''\n",
    "Simulates a cell up to an event limit, storing the cell as result\n",
    "'''\n",
    "def corecloneSimulateComplete(i,acc,parent,nameMarker,limit):\n",
    "        i.simulate(limit)\n",
    "        #update namemarker for a unique name\n",
    "        nameMarker[0]+=1\n",
    "        name = nameMarker[0]\n",
    "        acc.append((i.birthtime,i.lifetime,parent,i.survivor)) #Switching to numpy array here leads to a 20x slowdown!\n",
    "        for s in i.siblings:\n",
    "            corecloneSimulateComplete(s,acc,name,nameMarker,limit)\n",
    "        return((acc)) #adding np.asarray gives 20x slowdown\n",
    "def cloneSimulateComplete(i,limit):\n",
    "    return(corecloneSimulateComplete(i,[],-1,[-1],limit))\n",
    "\n",
    "def experimentDiscreteTime(c,timePoints):\n",
    "    limit = max(timePoints)\n",
    "    lifespans = cloneSimulateDiscreteTime(c,limit,[])\n",
    "    def within(a,b,c):\n",
    "        if c>a and c<=b:\n",
    "            return(1)\n",
    "        else:\n",
    "            return(0)\n",
    "    return([sum([within(b,d,t) for (b,d) in lifespans]) for t in timePoints])\n",
    "    \n",
    "\n",
    "def printClone(c):\n",
    "    def core(c,d):\n",
    "        print(\"Gen\\t%d\" % d)\n",
    "        c.printHistory()\n",
    "        for i in c.siblings:\n",
    "            core(i,d+1)\n",
    "    core(c,0)\n",
    "\n",
    "def seedExperiment(i):\n",
    "    random.seed(i)\n",
    "    return(experimentDiscreteTime(cell(0,True,0.25,random),[2,4,8,10,30,50,100]))\n",
    "\n",
    "#uni = uniformGenerate(1982,None)\n",
    "def seedClone(i):\n",
    "    random.seed(i)\n",
    "    return(cloneSimulateComplete(cell(0,True,0.25,random),100))"
   ]
  },
  {
   "cell_type": "markdown",
   "metadata": {
    "collapsed": true
   },
   "source": [
    "## Testing the simulator\n",
    "\n",
    "Below we can run a few tests. We initially define a cell and run a simulation just of that. We go on to simulate a clone, and an experiment to see if the functions run and generate sensible outputs. \n",
    "\n",
    "We finish with a simulation of 10000 clones, timing the calculation. As the most easily measurable properties of the model are the averages, we will use this for generating some plots. To ensure that our random numbers are really random we can look at a couple of elements in the array and compare them."
   ]
  },
  {
   "cell_type": "markdown",
   "metadata": {},
   "source": [
    "## Properties of a collection of clones\n",
    "\n",
    "Lets run some experiments in a similar way to the code above, and check the properties. \n",
    "\n",
    "The model represents homeostasis, so we expect that there should be roughly 20000 cells at each timepoint, which we can check by summing for all elements. \n",
    "\n",
    "We also expect the average surviving clone size to increase linearly over time with a slope of ~0.5. This can be seen by calculating and plotting this using matplotlib.\n",
    "\n",
    "Finally, the number of surviving clones should drop over time following a power law- again we can plot and check this using matplotlib."
   ]
  },
  {
   "cell_type": "markdown",
   "metadata": {},
   "source": [
    "# Converting clone lifespan to realistic times\n",
    "\n",
    "The fate simulator is able to generate the orders of events in a clones lifetime, but in order to compare this with experimental data we need to use the outputs from that function, and transform them into floating point numbers that reflect the division and stratification rates. The most common way to do this is to draw the division times from an exponential distribution characterised by its mean, but we also know that the exponential distribution is unrealistic for cell division times. Here we explore two alternative distributions used in the literature; a short, deterministic delay (the delay or refractory period) followed by an exponential distribution, and a deterministic lag period followed by times selected from a gamma distribution (with an additional shape parameter). As the exponential distribution is a special case of the gamma distribution where the shape is 1., we can focus on using just the gamma distribution when we start to compare with experimental data.\n",
    "\n",
    "We first define functions that allow us to set create a random number generator for a given distribution with a specific set of parameters (using the numpy library to generate the underlying distribution). In each case the overall mean time for events to occur and a random number generator is passed to the function. In addition to this, a delay may be passed (either as an absolute delay, or expressed as a fraction of the mean) and a shape parameter. In each case the object returned is a function that takes unit as an input and returns a new floating point number from the distribution.\n",
    "\n",
    "In each case we use an object that preallocates a large number of random numbers (*total*) and defines functions that return one, or an array of random numbers of a specified size, cumulatively summed. The functions that return values determine whether the store of numbers will run out and regenerates a set periodically. This is written like this for performance purposes. "
   ]
  },
  {
   "cell_type": "code",
   "execution_count": 6,
   "metadata": {},
   "outputs": [],
   "source": [
    "#times[-1]: the last element in a list\n",
    "#order of the elements in a list: 0, 1, 2, 3,,,,\n",
    "\n",
    "class timeGenerate:\n",
    "    def __init__(self,seed,params):\n",
    "        np.random.seed(seed)\n",
    "        self.total = 10000000\n",
    "        self.params = params\n",
    "        self.validate()\n",
    "        #Generate \"total\" times\n",
    "        self.regenerate()\n",
    "    def regenerate(self):\n",
    "        self.precalculated = np.ones(self.total)\n",
    "        self.position = 0\n",
    "    def next(self,n=1):\n",
    "        if (n+self.position>self.total):\n",
    "            self.regenerate()\n",
    "            return(self.next(n))\n",
    "        else:\n",
    "            result = np.cumsum(self.precalculated[self.position:self.position+n])\n",
    "            self.position+=n\n",
    "            return(result)\n",
    "    def nextOne(self):\n",
    "        if (1+self.position>self.total):\n",
    "            self.regenerate()\n",
    "            return(self.nextOne())\n",
    "        else:\n",
    "            result = self.precalculated[self.position]\n",
    "            self.position+=1\n",
    "            return(result)\n",
    "    def nextTerminated(self,n=1,terminator=None):\n",
    "        if (n+self.position>self.total):\n",
    "            self.regenerate()\n",
    "            return(self.next(n))\n",
    "        else:\n",
    "            times = self.precalculated[self.position:self.position+n]\n",
    "            #This replaces a value! it will not be reused and eventually will be regenerated though\n",
    "            times[-1] = terminator.nextOne()\n",
    "            result = np.cumsum(times)\n",
    "            self.position+=n\n",
    "            return(result)\n",
    "    def validate(self):\n",
    "        pass\n",
    "    def drawTimes(self,limit):\n",
    "        counter = 0\n",
    "        totalTime=0\n",
    "        while(totalTime<limit):\n",
    "            totalTime+=self.precalculated[self.position+counter]\n",
    "            counter+=1\n",
    "            if counter+self.position>self.total:\n",
    "                self.regenerate()\n",
    "                return(self.drawtimes(limit))\n",
    "        return(self.next(counter))\n",
    "        \n",
    "\n",
    "class halfTime(timeGenerate):\n",
    "    def regenerate(self):\n",
    "        self.precalculated = np.ones(self.total)/2\n",
    "        self.position = 0\n",
    "        \n",
    "class exponentialGenerate(timeGenerate):\n",
    "    def regenerate(self):\n",
    "        (mean) = self.params\n",
    "        self.precalculated = np.random.exponential(mean,self.total)\n",
    "        #draw samples from an exponential distribution\n",
    "        self.position = 0\n",
    "\n",
    "class uniformGenerate(timeGenerate):\n",
    "    def regenerate(self):\n",
    "        #(lower,upper) = self.params\n",
    "        self.precalculated = np.random.uniform(0,1,self.total)\n",
    "        #draw samples from a uniform distribution\n",
    "        self.position = 0\n",
    "\n",
    "class exponentialGenerateDelay(timeGenerate):\n",
    "    def regenerate(self):\n",
    "        (mean,delay) = self.params\n",
    "        self.precalculated = np.random.exponential((mean-delay),self.total)+delay\n",
    "        self.position = 0\n",
    "    def validate(self):\n",
    "        assert(self.params[0]>self.params[1])\n",
    "\n",
    "class gammaGenerate(timeGenerate):\n",
    "    def regenerate(self):\n",
    "        (shape,scale) = self.params\n",
    "        self.precalculated = np.random.gamma(shape,scale,self.total)\n",
    "        #draw samples from a gamma distribution\n",
    "        self.position = 0\n",
    "\n",
    "class gammaGenerateDelay(timeGenerate):\n",
    "    def regenerate(self):\n",
    "        (mean,shape,delay) = self.params\n",
    "        scale = (mean-delay)/shape\n",
    "        self.precalculated = np.random.gamma(shape,scale,self.total)+delay\n",
    "        self.position = 0\n",
    "    def validate(self):\n",
    "        assert(self.params[0]>self.params[2])\n",
    "\n",
    "#More elegant way of expressing the delay\n",
    "class gammaGenerateFractionalDelay(timeGenerate):\n",
    "    def regenerate(self):\n",
    "        (mean,shape,delay) = self.params\n",
    "        scale = (mean*(1-delay))/shape\n",
    "        self.precalculated = np.random.gamma(shape,scale,self.total)+delay*mean\n",
    "        self.position = 0\n",
    "    def validate(self):\n",
    "        assert(0<=self.params[2])\n",
    "        assert(self.params[2]<=1)"
   ]
  },
  {
   "cell_type": "markdown",
   "metadata": {},
   "source": [
    "## Converting discrete time to real time\n",
    "\n",
    "The function *correctTime* below takes two random number generator objects (of the type we have just defined above), an initial time, and an array of tuples generated by the cloneSimulate function defined above. It returns a new array with the time of birth and the time of loss of the cell. \n",
    "\n",
    "To do this we first generate an array with random numbers drawn from the function representing the division times. If the cell stratifies we replace the last number in the array with a value drawn from the function representing stratification times. Finally, we perform a cumulative sum so that all elements represent the times taken for each event to happen from an initial timepoint (here arbitrarily set to zero).\n",
    "\n",
    "This gives us a series of timepoints that are accurate relative to the time when the cell was first born. However, we need the times to be relative to the start of the experiment to be useful. To do this for each cell we need to look at the times of its parent (and in turn, its parents and grandparents until the original cell) and adjust all the timepoints by the time the cell was born. Uniquely, the original cell has a parent set to a negative value and if this is found in the loop, the initial time is set to the value passed when calling the function.\n",
    "\n",
    "As an example, we want to generate times for the third cell in a clone. The third cell is a daughter of the first. The discrete times are \n",
    "\n",
    "cell 1 born @ 0, lost @ 3\n",
    "cell 3 born @ 1, lost @ 2\n",
    "\n",
    "This will give us initially two arrays of timepoints;\n",
    "\n",
    "cell1 = [|0.;0.5;1.0;1.5;|]\n",
    "cell3 = [|0.;1.0|]\n",
    "\n",
    "For cell 3, assuming that the initial time of the experiment was 0 (so cell 1 remains unchanged), we then need to add 0.5 (the first time from cell 1) to every timepoint. We get this by using the discrete birthtime as an index in the array. Finally, we return the first and last elements of the new array as the time of birth and the time of death; 0.5 and 1.5.\n",
    "\n",
    "This relies on being able to look up the parent time. Earlier we sorted the array returned by cloneSimulate by the unique identifier- this allows us to use the parent id (stored in the tuple) as an index in the original search. It also ensures that we correct the times in order of cell creation- this is important as when we correct the times we mutate the values in the original array, and ensures that we have always corrected the parents before we update their children. \n",
    "\n",
    "We now have enough information to directly compare our results with lineage tracing data."
   ]
  },
  {
   "cell_type": "code",
   "execution_count": 7,
   "metadata": {},
   "outputs": [],
   "source": [
    "def correctTime(c,initial,division,stratification,limit):\n",
    "    #c is tuple of birth,death,parent,survival (int*int*int*bool)\n",
    "    #First get all the relative times for all the clones, measured from birth. \n",
    "    eventTimes = [((division.next(d-b),b,d,p) if s else (division.nextTerminated(d-b,terminator=stratification),b,d,p) ) for (b,d,p,s) in c ]\n",
    "    \n",
    "    #Second correct the intial times of all of the events and store to the acc\n",
    "    def includeBirth(times,birthday,deathday,parent):\n",
    "        #modifier is going to be calculated from the birthtime, and the time of the parent\n",
    "        #this relies on mutables. Potential for ugliness\n",
    "        #Your parent's life times are stored by index- so if you parent is x, the lifetimes are in eventTimes[x]\n",
    "        #Times are in the first element of the eventTimes tuple- eventTimes[x][0]\n",
    "        #Your birthday (n) is the (n-1)th event in the parents life- so its in eventTimes[x][0][n-1*]\n",
    "        #Your parents birthday needs to be taken into account too; so if your parent was born on 3 and you on 6 you need n-pbday-1\n",
    "        #print(times)\n",
    "        if parent<0:\n",
    "            #special case- the initial cell\n",
    "            times+=initial\n",
    "            return((initial,times[-1])) \n",
    "        else:\n",
    "            parentBirthday = eventTimes[parent][1]\n",
    "            timeOnBirth=eventTimes[parent][0][birthday-parentBirthday-1]\n",
    "            if(len(times)):\n",
    "                times+=timeOnBirth\n",
    "                return( (timeOnBirth, times[-1] ) )\n",
    "            else:\n",
    "                #special case- this is a cell born on the last time point. Arbitrarily set to infinity\n",
    "                #Note differentiated cells born on the last timepoint have their lifetime extended, so this is only stem cells\n",
    "                return((timeOnBirth,math.inf))\n",
    "    acc = [includeBirth(times,birthday,deathday,parent) for (times,birthday,deathday,parent) in eventTimes]\n",
    "    #times = nextTerminated(deathday - birthday, terminator = stratification) if survival = FALSE\n",
    "    \n",
    "    return(acc)\n",
    "    # For examle, gammagenerator will generate s sequence of random values, a,b,c,d,e,f,g,,,\n",
    "    # the original cell (O) divides into two daughtor cells (A0 and A1), and A0 divides into B0 and B1\n",
    "    # the length of lifetime for cellO would be a, and for A0 (a+b0), A1 (a+b1), B0 (a+b0+c0), B1 (a+b0+c1),,,\n",
    "    # the time point of bithtime and deathtime are then calculated based on the birthtime and lifetime of the parent\n",
    "    # i.e. cumulative sum"
   ]
  },
  {
   "cell_type": "markdown",
   "metadata": {},
   "source": [
    "## Testing functions\n",
    "\n",
    "Here we demonstrate how different functions we've defined work. We explore the random number generators, then test elements of the large array of clone simulations we defined above (called *lots*), before applying the function to all elements and timing it."
   ]
  },
  {
   "cell_type": "code",
   "execution_count": 8,
   "metadata": {},
   "outputs": [],
   "source": [
    "def printTime(c,initial,gen):\n",
    "    print(\"Gen %d\" % gen)\n",
    "    birth = c.birthtime\n",
    "    death = c.lifetime\n",
    "    timePoints = death-birth\n",
    "    realTimes = getTimes(timePoints,initial)\n",
    "    print(realTimes)\n",
    "    response = \"Siblings\\t%d\\tBirth\\t%d/%f\\tDeath\\t%d/%f\\n\" % (len(c.siblings), birth, initial, death, realTimes[-1])\n",
    "    print(response)\n",
    "    for i,t in zip(c.siblings,realTimes):\n",
    "        printTime(i,t,gen+1)"
   ]
  },
  {
   "cell_type": "markdown",
   "metadata": {},
   "source": [
    "## Comparing models with experiments\n",
    "Here we will take the simulators we have created and use them to search an experimental dataset for parameters that describe the model well. We will take some published data of measured clone sizes, make a plot to show that it has some of the expected properties (specifically, linearly increasing average clone size over time). We will then use a set of simulations to estimate the likelihoods of different parameter combinations for models, and identify the most likely combination by plotting the results as a heatmap.\n",
    "\n",
    "To interpret the heatmaps, the parameter combinations with the highest likelihood are the best fitting. For this dataset, we can see that for both exponential and gamma distributions we find low values of $r$ and high values of $\\rho$ best describe the data. We can further see that the choice of distribution makes subtle differences on the long term distributions."
   ]
  },
  {
   "cell_type": "code",
   "execution_count": 9,
   "metadata": {},
   "outputs": [],
   "source": [
    "def getLineage(filename):\n",
    "    #reads a tsv file of clone counts\n",
    "    df = pd.read_csv(filename, sep=\"\\t\")\n",
    "    counts = np.transpose(df.values).astype(float)\n",
    "    header = df.columns.values\n",
    "    return(header[1:].astype(float),counts[1:])"
   ]
  },
  {
   "cell_type": "code",
   "execution_count": 10,
   "metadata": {},
   "outputs": [],
   "source": [
    "times, counts = getLineage(\"DoupeAggregate.tsv\")"
   ]
  },
  {
   "cell_type": "code",
   "execution_count": 11,
   "metadata": {},
   "outputs": [],
   "source": [
    "import pickle"
   ]
  },
  {
   "cell_type": "markdown",
   "metadata": {},
   "source": [
    "### Exploring the data\n",
    "\n",
    "We showed that the simulations showed a linear growth in average clone size over time. Here we repeat the test on the experimental data."
   ]
  },
  {
   "cell_type": "code",
   "execution_count": 12,
   "metadata": {},
   "outputs": [],
   "source": [
    "def logLikelihood(obs,lpBins,binSize):\n",
    "    maxClone = len(lpBins)\n",
    "    def noisyMul(a,b,i):\n",
    "        #print(\"logP\",lp, \"\\nobsv\", obs); lp[i]*obs[i]\n",
    "        print(\"logP\",a, \"\\nobsv\", b)\n",
    "        return(a[i]*b[i])\n",
    "    obsBins = [sum(obs[sum(binSize[0:n]):sum(binSize[0:(n+1)])]) for n in range(len(binSize))]\n",
    "    return(sum([obsBins[j]*lpBins[j] for j in range(maxClone)]))\n",
    "\n",
    "def allLogLike(obs,lpBins,binSize):\n",
    "    return(sum([logLikelihood(o,p,binSize) for o,p in zip(obs,lpBins)]))\n",
    "\n",
    "def sizesToFreq(sizes,data,binSize):\n",
    "    biggest = max([max(c) for c in sizes])\n",
    "    #print(\"Mean:\",(sum(sizes)*surv))\n",
    "    sizeList = [[t.count(s+1) for s in range(biggest)] for t in sizes]\n",
    "    # countpertimepoint will still be the overall number of clones even with clones that have extremely large clone size\n",
    "    countPerTimePoint = [sum(s) for s in sizeList]\n",
    "    binSizeList = [[sum(t[sum(binSize[0:n]):sum(binSize[0:(n+1)])]) for n in range(len(binSize))] for t in sizeList]\n",
    "    logFreq = [[math.log10(1/1000000) if total==0 or item==0 else math.log10(item/total) for item in n] for n,total in zip(binSizeList,countPerTimePoint)]\n",
    "    return(logFreq)"
   ]
  },
  {
   "cell_type": "code",
   "execution_count": 13,
   "metadata": {},
   "outputs": [],
   "source": [
    "def fateToLogProbability(timePoints,fates,generations,div,strat,data,binSize):\n",
    "    times = np.asarray([np.asarray(correctTime(c,0,div,strat,generations)) for c in fates])\n",
    "    #count clone sizes at timepoints\n",
    "    def within(birth,death,time):\n",
    "        if time>=birth and time<death:\n",
    "            return(1)\n",
    "        else:\n",
    "            return(0)\n",
    "    cloneSizes = [[sum([within(cell[0],cell[1],t) for cell in clone]) for clone in times ] for t in timePoints]\n",
    "    #for i,t in enumerate(cloneSizes):\n",
    "    #    print(i,sum(t),t.count(0))\n",
    "    #convert to log10(frequency)\n",
    "    freq = sizesToFreq(cloneSizes,data,binSize)\n",
    "    return(freq)\n",
    "\n",
    "def parameterLike(rho,meanDivTime,timePoints,fates,generations,div,data,binSize,seed):\n",
    "    #print(\"rho =\",rho)\n",
    "    stratTime = (1-rho)*meanDivTime/rho\n",
    "    #print(\"\\tstrat =\",stratTime)\n",
    "    strat = exponentialGenerate(seed,(stratTime)) \n",
    "    # the stratification time is actually unaccessible and could not be test\n",
    "    #Now get the probabilities\n",
    "    lpBins = fateToLogProbability(timePoints,fates,generations,div,strat,data,binSize)\n",
    "    #Now get the likelihoods\n",
    "    like = allLogLike(data,lpBins,binSize)\n",
    "    #print(like)\n",
    "    return(like)"
   ]
  },
  {
   "cell_type": "code",
   "execution_count": 14,
   "metadata": {},
   "outputs": [],
   "source": [
    "def searchRho(timePoints,r,sampleSize,seed,div,meanDivTime,data,binSize):\n",
    "    #print(\"r =\",r)\n",
    "    random.seed(seed)\n",
    "    generations = 230 \n",
    "    def seedWrapper(r,generations,seed):\n",
    "        random.seed(seed)\n",
    "        clone = cell(0,True,r,random)\n",
    "        return(cloneSimulateComplete(clone,generations))\n",
    "    fates = np.asarray( [np.asarray(seedWrapper(r,generations,i)) for i in range(sampleSize)] )\n",
    "    #check fate survival is sound\n",
    "    def within(birth,death,time):\n",
    "        if time>=birth and time<death:\n",
    "            return(1)\n",
    "        else:\n",
    "            return(0)\n",
    "    cloneSizes = [[sum([within(b,d,t/meanDivTime) for (b,d,p,s) in clone]) for clone in fates ] for t in timePoints]\n",
    "    #for i,t in enumerate(cloneSizes):\n",
    "    #    print(i,sum(t),t.count(0))\n",
    "    rho = r/0.12\n",
    "    return(parameterLike(rho,meanDivTime,timePoints,fates,generations,div,data,binSize,seed))\n",
    "    \n",
    "def calculateLineageLikelihood(div,meanDivTime,data,bins,timePoints,binSize):\n",
    "    rVals = [(i*0.12/bins) for i in range(1,bins)]\n",
    "    #print(\"Testing:\",rVals,rhoVals)\n",
    "    sampleSize = 100000\n",
    "    result = np.array([searchRho(timePoints,r,sampleSize,seed,div,meanDivTime,data,binSize) for (seed,r) in enumerate(rVals)])\n",
    "    return(result)"
   ]
  },
  {
   "cell_type": "code",
   "execution_count": 15,
   "metadata": {},
   "outputs": [],
   "source": [
    "bins = 50\n",
    "nSize = len(np.transpose(counts))\n",
    "# nBin = int(round(np.log(nSize)/np.log(2)+0.5))\n",
    "# binSize = np.append([1],[2**(n-1) for n in range(1,(nBin+1))])\n",
    "nBin = int(round(np.log(nSize*2)/np.log(3)+0.5))\n",
    "binSize = np.append([1],[3**(n-1) for n in range(1,(nBin+1))])"
   ]
  },
  {
   "cell_type": "code",
   "execution_count": 16,
   "metadata": {},
   "outputs": [
    {
     "name": "stdout",
     "output_type": "stream",
     "text": [
      "CPU times: user 9h 17min 9s, sys: 1min 24s, total: 9h 18min 33s\n",
      "Wall time: 9h 18min 32s\n"
     ]
    }
   ],
   "source": [
    "pickle_in = open(\"pickled_0.080_gamma\",\"rb\")\n",
    "experiment = pickle.load(pickle_in)\n",
    "\n",
    "expRate = exponentialGenerate(102,(2.4))\n",
    "%time e = calculateLineageLikelihood(expRate,2.4,experiment,bins,times,binSize)"
   ]
  },
  {
   "cell_type": "code",
   "execution_count": 17,
   "metadata": {},
   "outputs": [
    {
     "data": {
      "image/png": "[encoded data removed]",
      "text/plain": [
       "<Figure size 432x288 with 1 Axes>"
      ]
     },
     "metadata": {
      "needs_background": "light"
     },
     "output_type": "display_data"
    }
   ],
   "source": [
    "plt.plot(np.array([(i*0.12/bins) for i in range(1,bins)]),np.exp(e-max(e)))\n",
    "plt.show()"
   ]
  },
  {
   "cell_type": "code",
   "execution_count": 18,
   "metadata": {},
   "outputs": [
    {
     "name": "stdout",
     "output_type": "stream",
     "text": [
      "CPU times: user 9h 28min 47s, sys: 2min 39s, total: 9h 31min 26s\n",
      "Wall time: 9h 10min 58s\n"
     ]
    }
   ],
   "source": [
    "gamRate = gammaGenerateDelay(102,(2.4,8.,0.5))\n",
    "%time g = calculateLineageLikelihood(gamRate,2.4,experiment,bins,times,binSize)"
   ]
  },
  {
   "cell_type": "code",
   "execution_count": 19,
   "metadata": {},
   "outputs": [
    {
     "data": {
      "image/png": "[encoded data removed]",
      "text/plain": [
       "<Figure size 432x288 with 1 Axes>"
      ]
     },
     "metadata": {
      "needs_background": "light"
     },
     "output_type": "display_data"
    }
   ],
   "source": [
    "plt.plot(np.array([(i*0.12/bins) for i in range(1,bins)]),np.exp(g-max(g)))\n",
    "plt.show()"
   ]
  }
 ],
 "metadata": {
  "kernelspec": {
   "display_name": "Python 3",
   "language": "python",
   "name": "python3"
  },
  "language_info": {
   "codemirror_mode": {
    "name": "ipython",
    "version": 3
   },
   "file_extension": ".py",
   "mimetype": "text/x-python",
   "name": "python",
   "nbconvert_exporter": "python",
   "pygments_lexer": "ipython3",
   "version": "3.7.3"
  }
 },
 "nbformat": 4,
 "nbformat_minor": 2
}
