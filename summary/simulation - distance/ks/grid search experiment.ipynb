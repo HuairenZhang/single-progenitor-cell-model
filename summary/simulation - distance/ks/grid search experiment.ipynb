{
 "cells": [
  {
   "cell_type": "markdown",
   "metadata": {},
   "source": [
    "## Machine variables\n",
    "\n",
    "These variables are referenced by the code below and are machine specific- *you need to alter these for some functions to work!* \n",
    "\n",
    "The comments indicate what they should be set to and what they are used for."
   ]
  },
  {
   "cell_type": "code",
   "execution_count": 1,
   "metadata": {},
   "outputs": [],
   "source": [
    "import os\n",
    "import tempfile\n",
    "\n",
    "db_path = (\"sqlite:///\" +\n",
    "           os.path.join(tempfile.gettempdir(), \"test.db\"))"
   ]
  },
  {
   "cell_type": "markdown",
   "metadata": {},
   "source": [
    "## Load modules\n",
    "\n",
    "We use matplotlib for graphs, scipy and numpy for statistical functions and random distributions, and pyabc for inferring parameter sets. We additionally use line_profiler and memory_profiler to measure code performance."
   ]
  },
  {
   "cell_type": "code",
   "execution_count": 2,
   "metadata": {},
   "outputs": [],
   "source": [
    "import copy, random, functools, pickle, math\n",
    "import numpy as np\n",
    "import pandas as pd\n",
    "from multiprocessing import Pool\n",
    "from scipy import stats\n",
    "from functools import partial"
   ]
  },
  {
   "cell_type": "code",
   "execution_count": 3,
   "metadata": {},
   "outputs": [
    {
     "name": "stderr",
     "output_type": "stream",
     "text": [
      "/home/hz368/anaconda3/lib/python3.7/site-packages/dask/config.py:168: YAMLLoadWarning: calling yaml.load() without Loader=... is deprecated, as the default Loader is unsafe. Please read https://msg.pyyaml.org/load for full details.\n",
      "  data = yaml.load(f.read()) or {}\n",
      "/home/hz368/anaconda3/lib/python3.7/site-packages/distributed/config.py:20: YAMLLoadWarning: calling yaml.load() without Loader=... is deprecated, as the default Loader is unsafe. Please read https://msg.pyyaml.org/load for full details.\n",
      "  defaults = yaml.load(f)\n"
     ]
    }
   ],
   "source": [
    "%matplotlib inline\n",
    "\n",
    "from pyabc import (ABCSMC,\n",
    "                   RV, Distribution,\n",
    "                   MedianEpsilon,\n",
    "                   LocalTransition,\n",
    "                   AdaptivePNormDistance)\n",
    "from pyabc.visualization import plot_kde_2d\n",
    "import matplotlib.pyplot as plt\n",
    "import scipy as sp\n",
    "\n",
    "\n"
   ]
  },
  {
   "cell_type": "code",
   "execution_count": 4,
   "metadata": {},
   "outputs": [],
   "source": [
    "%load_ext line_profiler\n",
    "%load_ext memory_profiler"
   ]
  },
  {
   "cell_type": "code",
   "execution_count": 5,
   "metadata": {},
   "outputs": [],
   "source": [
    "'''\n",
    "A cell should update to divide and die. As we can only count living cells, \n",
    "we only need to measure the lifetime of a cell or experiment, and store its \n",
    "siblings.\n",
    "\n",
    "For the whole clone size, each of the siblings need to be simulated to their\n",
    "stratification or the end of the experiment.\n",
    "\n",
    "The cell updates in discrete time, with an aim that randomly generated times \n",
    "are projected back on a cohort a posteri to reduce calculation times.\n",
    "'''\n",
    "        \n",
    "class cell:\n",
    "    def __init__(self,init,stem,r,rng):\n",
    "        self.currentTime = init\n",
    "        self.stem = stem\n",
    "        self.r = r\n",
    "        self.rng = rng\n",
    "        self.lifetime = 0\n",
    "        self.birthtime = self.currentTime\n",
    "        self.survivor = False\n",
    "        self.siblings = []\n",
    "    def printState(self):\n",
    "        response = \"Time\\t%d\\nStem\\t%r\\n\" % (self.currentTime, self.stem)\n",
    "        print(response)\n",
    "    def printParameters(self):\n",
    "        response = \"Lambda\\t%f\\nr\\t%f\\nrho\\t%f\\n\" % (self.lam, self.r, self.rho)\n",
    "        print(response)\n",
    "    def printHistory(self):\n",
    "        response = \"Siblings\\t%d\\tBirth\\t%f\\tDeath\\t%f\\n\" % (len(self.siblings), self.birthtime, self.lifetime)\n",
    "        print(response)\n",
    "    def simulate(self,limit):\n",
    "        cont = True\n",
    "        while(cont):\n",
    "            if self.lifetime > 0:\n",
    "                cont = False\n",
    "            elif self.currentTime>limit:\n",
    "                #End experiment- lifetime set to currenttime+1 if not a stem cell, currenttime if stem with surv bool set\n",
    "                #Infinity is inappropriate as its a float, so setting lifetime to current time\n",
    "                #If a clone has infinity *before* the last experimental timepoint, the simulation needs extension\n",
    "                if self.stem:\n",
    "                    self.survivor = True\n",
    "                    self.lifetime = self.currentTime\n",
    "                else:\n",
    "                    self.lifetime = self.currentTime+1\n",
    "                cont = False\n",
    "            else:\n",
    "                if self.stem:\n",
    "                    self.currentTime += 1\n",
    "                    sibling = cell(self.currentTime,self.stem,self.r,self.rng)\n",
    "                    rand = self.rng.random()\n",
    "                    if rand < self.r:\n",
    "                        pass\n",
    "                    elif rand < (self.r*2):\n",
    "                        self.stem = False\n",
    "                        sibling.stem = False\n",
    "                    else:\n",
    "                        sibling.stem = False\n",
    "                    self.siblings.append(sibling)\n",
    "                else:\n",
    "                    self.currentTime += 1\n",
    "                    self.lifetime = self.currentTime\n",
    "                \n",
    "\n",
    "'''\n",
    "Simulates a cell up to an event limit, storing the discrete times only\n",
    "'''\n",
    "def cloneSimulateDiscreteTime(i,limit,acc):\n",
    "    i.simulate(limit)\n",
    "    acc.append((i.birthtime,i.lifetime))\n",
    "    for s in i.siblings:\n",
    "        cloneSimulateDiscreteTime(s,limit,acc)\n",
    "    return(acc)\n",
    "\n",
    "'''\n",
    "Simulates a cell up to an event limit, storing the cell as result\n",
    "'''\n",
    "def corecloneSimulateComplete(i,acc,parent,nameMarker,limit):\n",
    "        i.simulate(limit)\n",
    "        #update namemarker for a unique name\n",
    "        nameMarker[0]+=1\n",
    "        name = nameMarker[0]\n",
    "        acc.append((i.birthtime,i.lifetime,parent,i.survivor)) #Switching to numpy array here leads to a 20x slowdown!\n",
    "        for s in i.siblings:\n",
    "            corecloneSimulateComplete(s,acc,name,nameMarker,limit)\n",
    "        return((acc)) #adding np.asarray gives 20x slowdown\n",
    "def cloneSimulateComplete(i,limit):\n",
    "    return(corecloneSimulateComplete(i,[],-1,[-1],limit))\n",
    "\n",
    "def experimentDiscreteTime(c,timePoints):\n",
    "    limit = max(timePoints)\n",
    "    lifespans = cloneSimulateDiscreteTime(c,limit,[])\n",
    "    def within(a,b,c):\n",
    "        if c>a and c<=b:\n",
    "            return(1)\n",
    "        else:\n",
    "            return(0)\n",
    "    return([sum([within(b,d,t) for (b,d) in lifespans]) for t in timePoints])\n",
    "    \n",
    "\n",
    "def printClone(c):\n",
    "    def core(c,d):\n",
    "        print(\"Gen\\t%d\" % d)\n",
    "        c.printHistory()\n",
    "        for i in c.siblings:\n",
    "            core(i,d+1)\n",
    "    core(c,0)\n",
    "\n",
    "def seedExperiment(i):\n",
    "    random.seed(i)\n",
    "    return(experimentDiscreteTime(cell(0,True,0.25,random),[2,4,8,10,30,50,100]))\n",
    "\n",
    "#uni = uniformGenerate(1982,None)\n",
    "def seedClone(i):\n",
    "    random.seed(i)\n",
    "    return(cloneSimulateComplete(cell(0,True,0.25,random),100))"
   ]
  },
  {
   "cell_type": "markdown",
   "metadata": {},
   "source": [
    "# Converting clone lifespan to realistic times\n",
    "\n",
    "The fate simulator is able to generate the orders of events in a clones lifetime, but in order to compare this with experimental data we need to use the outputs from that function, and transform them into floating point numbers that reflect the division and stratification rates. The most common way to do this is to draw the division times from an exponential distribution characterised by its mean, but we also know that the exponential distribution is unrealistic for cell division times. Here we explore two alternative distributions used in the literature; a short, deterministic delay (the delay or refractory period) followed by an exponential distribution, and a deterministic lag period followed by times selected from a gamma distribution (with an additional shape parameter). As the exponential distribution is a special case of the gamma distribution where the shape is 1., we can focus on using just the gamma distribution when we start to compare with experimental data.\n",
    "\n",
    "We first define functions that allow us to set create a random number generator for a given distribution with a specific set of parameters (using the numpy library to generate the underlying distribution). In each case the overall mean time for events to occur and a random number generator is passed to the function. In addition to this, a delay may be passed (either as an absolute delay, or expressed as a fraction of the mean) and a shape parameter. In each case the object returned is a function that takes unit as an input and returns a new floating point number from the distribution.\n",
    "\n",
    "In each case we use an object that preallocates a large number of random numbers (*total*) and defines functions that return one, or an array of random numbers of a specified size, cumulatively summed. The functions that return values determine whether the store of numbers will run out and regenerates a set periodically. This is written like this for performance purposes. "
   ]
  },
  {
   "cell_type": "code",
   "execution_count": 6,
   "metadata": {},
   "outputs": [],
   "source": [
    "class timeGenerate:\n",
    "    def __init__(self,seed,params):\n",
    "        np.random.seed(seed)\n",
    "        self.total = 10000000\n",
    "        self.params = params\n",
    "        self.validate()\n",
    "        #Generate \"total\" times\n",
    "        self.regenerate()\n",
    "    def regenerate(self):\n",
    "        self.precalculated = np.ones(self.total)\n",
    "        self.position = 0\n",
    "    def next(self,n=1):\n",
    "        if (n+self.position>self.total):\n",
    "            self.regenerate()\n",
    "            return(self.next(n))\n",
    "        else:\n",
    "            result = np.cumsum(self.precalculated[self.position:self.position+n])\n",
    "            self.position+=n\n",
    "            return(result)\n",
    "    def nextOne(self):\n",
    "        if (1+self.position>self.total):\n",
    "            self.regenerate()\n",
    "            return(self.nextOne())\n",
    "        else:\n",
    "            result = self.precalculated[self.position]\n",
    "            self.position+=1\n",
    "            return(result)\n",
    "    def nextTerminated(self,n=1,terminator=None):\n",
    "        if (n+self.position>self.total):\n",
    "            self.regenerate()\n",
    "            return(self.next(n))\n",
    "        else:\n",
    "            times = self.precalculated[self.position:self.position+n]\n",
    "            #This replaces a value! it will not be reused and eventually will be regenerated though\n",
    "            times[-1] = terminator.nextOne()\n",
    "            result = np.cumsum(times)\n",
    "            self.position+=n\n",
    "            return(result)\n",
    "    def validate(self):\n",
    "        pass\n",
    "    def drawTimes(self,limit):\n",
    "        counter = 0\n",
    "        totalTime=0\n",
    "        while(totalTime<limit):\n",
    "            totalTime+=self.precalculated[self.position+counter]\n",
    "            counter+=1\n",
    "            if counter+self.position>self.total:\n",
    "                self.regenerate()\n",
    "                return(self.drawtimes(limit))\n",
    "        return(self.next(counter))\n",
    "        \n",
    "\n",
    "class halfTime(timeGenerate):\n",
    "    def regenerate(self):\n",
    "        self.precalculated = np.ones(self.total)/2\n",
    "        self.position = 0\n",
    "        \n",
    "class exponentialGenerate(timeGenerate):\n",
    "    def regenerate(self):\n",
    "        (mean) = self.params\n",
    "        self.precalculated = np.random.exponential(mean,self.total)\n",
    "        self.position = 0\n",
    "\n",
    "class uniformGenerate(timeGenerate):\n",
    "    def regenerate(self):\n",
    "        #(lower,upper) = self.params\n",
    "        self.precalculated = np.random.uniform(0,1,self.total)\n",
    "        self.position = 0\n",
    "\n",
    "class exponentialGenerateDelay(timeGenerate):\n",
    "    def regenerate(self):\n",
    "        (mean,delay) = self.params\n",
    "        self.precalculated = np.random.exponential((mean-delay),self.total)+delay\n",
    "        self.position = 0\n",
    "    def validate(self):\n",
    "        assert(self.params[0]>self.params[1])\n",
    "\n",
    "class gammaGenerate(timeGenerate):\n",
    "    def regenerate(self):\n",
    "        (shape,scale) = self.params\n",
    "        self.precalculated = np.random.gamma(shape,scale,self.total)\n",
    "        self.position = 0\n",
    "\n",
    "class gammaGenerateDelay(timeGenerate):\n",
    "    def regenerate(self):\n",
    "        (mean,shape,delay) = self.params\n",
    "        scale = (mean-delay)/shape\n",
    "        self.precalculated = np.random.gamma(shape,scale,self.total)+delay\n",
    "        self.position = 0\n",
    "    def validate(self):\n",
    "        assert(self.params[0]>self.params[2])\n",
    "\n",
    "#More elegant way of expressing the delay\n",
    "class gammaGenerateFractionalDelay(timeGenerate):\n",
    "    def regenerate(self):\n",
    "        (mean,shape,delay) = self.params\n",
    "        scale = (mean*(1-delay))/shape\n",
    "        self.precalculated = np.random.gamma(shape,scale,self.total)+delay*mean\n",
    "        self.position = 0\n",
    "    def validate(self):\n",
    "        assert(0<=self.params[2])\n",
    "        assert(self.params[2]<=1)"
   ]
  },
  {
   "cell_type": "markdown",
   "metadata": {},
   "source": [
    "## Converting discrete time to real time\n",
    "\n",
    "The function *correctTime* below takes two random number generator objects (of the type we have just defined above), an initial time, and an array of tuples generated by the cloneSimulate function defined above. It returns a new array with the time of birth and the time of loss of the cell. \n",
    "\n",
    "To do this we first generate an array with random numbers drawn from the function representing the division times. If the cell stratifies we replace the last number in the array with a value drawn from the function representing stratification times. Finally, we perform a cumulative sum so that all elements represent the times taken for each event to happen from an initial timepoint (here arbitrarily set to zero).\n",
    "\n",
    "This gives us a series of timepoints that are accurate relative to the time when the cell was first born. However, we need the times to be relative to the start of the experiment to be useful. To do this for each cell we need to look at the times of its parent (and in turn, its parents and grandparents until the original cell) and adjust all the timepoints by the time the cell was born. Uniquely, the original cell has a parent set to a negative value and if this is found in the loop, the initial time is set to the value passed when calling the function.\n",
    "\n",
    "As an example, we want to generate times for the third cell in a clone. The third cell is a daughter of the first. The discrete times are \n",
    "\n",
    "cell 1 born @ 0, lost @ 3\n",
    "cell 3 born @ 1, lost @ 2\n",
    "\n",
    "This will give us initially two arrays of timepoints;\n",
    "\n",
    "cell1 = [|0.;0.5;1.0;1.5;|]\n",
    "cell3 = [|0.;1.0|]\n",
    "\n",
    "For cell 3, assuming that the initial time of the experiment was 0 (so cell 1 remains unchanged), we then need to add 0.5 (the first time from cell 1) to every timepoint. We get this by using the discrete birthtime as an index in the array. Finally, we return the first and last elements of the new array as the time of birth and the time of death; 0.5 and 1.5.\n",
    "\n",
    "This relies on being able to look up the parent time. Earlier we sorted the array returned by cloneSimulate by the unique identifier- this allows us to use the parent id (stored in the tuple) as an index in the original search. It also ensures that we correct the times in order of cell creation- this is important as when we correct the times we mutate the values in the original array, and ensures that we have always corrected the parents before we update their children. \n",
    "\n",
    "We now have enough information to directly compare our results with lineage tracing data."
   ]
  },
  {
   "cell_type": "code",
   "execution_count": 7,
   "metadata": {},
   "outputs": [],
   "source": [
    "def correctTime(c,initial,division,stratification,limit):\n",
    "    #c is tuple of birth,death,parent,survival (int*int*int*bool)\n",
    "    #First get all the relative times for all the clones, measured from birth. \n",
    "    eventTimes = [((division.next(d-b),b,d,p) if s else (division.nextTerminated(d-b,terminator=stratification),b,d,p) ) for (b,d,p,s) in c ]\n",
    "\n",
    "    #Second correct the intial times of all of the events and store to the acc\n",
    "    def includeBirth(times,birthday,deathday,parent):\n",
    "        #modifier is going to be calculated from the birthtime, and the time of the parent\n",
    "        #this relies on mutables. Potential for ugliness\n",
    "        #Your parent's life times are stored by index- so if you parent is x, the lifetimes are in eventTimes[x]\n",
    "        #Times are in the first element of the eventTimes tuple- eventTimes[x][0]\n",
    "        #Your birthday (n) is the (n-1)th event in the parents life- so its in eventTimes[x][0][n-1*]\n",
    "        #Your parents birthday needs to be taken into account too; so if your parent was born on 3 and you on 6 you need n-pbday-1\n",
    "        #print(times)\n",
    "        if parent<0:\n",
    "            #special case- the initial cell\n",
    "            times+=initial\n",
    "            return((initial,times[-1])) \n",
    "        else:\n",
    "            parentBirthday = eventTimes[parent][1]\n",
    "            timeOnBirth=eventTimes[parent][0][birthday-parentBirthday-1]\n",
    "            if(len(times)):\n",
    "                times+=timeOnBirth\n",
    "                return( (timeOnBirth, times[-1] ) )\n",
    "            else:\n",
    "                #special case- this is a cell born on the last time point. Arbitrarily set to infinity\n",
    "                #Note differentiated cells born on the last timepoint have their lifetime extended, so this is only stem cells\n",
    "                return((timeOnBirth,math.inf))\n",
    "    acc = [includeBirth(times,birthday,deathday,parent) for (times,birthday,deathday,parent) in eventTimes]\n",
    "\n",
    "    return(acc)"
   ]
  },
  {
   "cell_type": "markdown",
   "metadata": {},
   "source": [
    "## Comparing models with experiments\n",
    "Here we will take the simulators we have created and use them to search an experimental dataset for parameters that describe the model well. We will take some published data of measured clone sizes, make a plot to show that it has some of the expected properties (specifically, linearly increasing average clone size over time). We will then use a set of simulations to estimate the likelihoods of different parameter combinations for models, and identify the most likely combination by plotting the results as a heatmap.\n",
    "\n",
    "To interpret the heatmaps, the parameter combinations with the highest likelihood are the best fitting. For this dataset, we can see that for both exponential and gamma distributions we find low values of $r$ and high values of $\\rho$ best describe the data. We can further see that the choice of distribution makes subtle differences on the long term distributions."
   ]
  },
  {
   "cell_type": "code",
   "execution_count": 8,
   "metadata": {},
   "outputs": [],
   "source": [
    "def getLineage(filename):\n",
    "    #reads a tsv file of clone counts\n",
    "    df = pd.read_csv(filename, sep=\"\\t\")\n",
    "    counts = np.transpose(df.values).astype(float)\n",
    "    header = df.columns.values\n",
    "    return(header[1:].astype(float),counts[1:])"
   ]
  },
  {
   "cell_type": "code",
   "execution_count": 9,
   "metadata": {},
   "outputs": [],
   "source": [
    "times, counts = getLineage(\"DoupeAggregate.tsv\")"
   ]
  },
  {
   "cell_type": "code",
   "execution_count": 10,
   "metadata": {},
   "outputs": [],
   "source": [
    "experiment = [[np.repeat(i+1, counts[t][i]) for i in range(max(np.where(counts[t]>0)[0]))] for t in range(len(counts))]"
   ]
  },
  {
   "cell_type": "code",
   "execution_count": 11,
   "metadata": {},
   "outputs": [
    {
     "data": {
      "text/plain": [
       "array([1, 1, 1, 1, 1, 1, 1, 1, 1, 1, 1, 1, 1, 1, 1, 1, 1, 1, 1, 1, 1, 1,\n",
       "       1, 1, 1, 1, 1, 1, 1, 1, 1, 1, 1, 1, 1, 1, 1, 1, 1, 1, 1, 1, 1, 1,\n",
       "       1, 1, 1, 1, 1, 1, 1, 1, 1, 1, 1, 1, 1, 1, 1, 1, 1, 1, 1, 1, 1, 1,\n",
       "       1, 1, 1, 1, 1, 1, 1, 1, 1, 1, 1, 1, 1, 1, 1, 1, 1, 1, 1, 1, 1, 1,\n",
       "       1, 1, 2, 2, 2, 2, 2, 2, 2, 2, 2, 2, 2, 2, 2, 2, 2, 2, 2, 2, 2, 2,\n",
       "       2, 2, 2, 2, 2, 2, 2, 2, 2, 2, 2, 2, 2, 2, 2, 2, 2, 2, 2, 2, 2, 2,\n",
       "       2, 3, 3, 3, 3])"
      ]
     },
     "execution_count": 11,
     "metadata": {},
     "output_type": "execute_result"
    }
   ],
   "source": [
    "experimentList = [np.concatenate(t, axis = None) for t in experiment]\n",
    "experimentList[0]"
   ]
  },
  {
   "cell_type": "markdown",
   "metadata": {},
   "source": [
    "### Exploring the data\n",
    "\n",
    "We showed that the simulations showed a linear growth in average clone size over time. Here we repeat the test on the experimental data."
   ]
  },
  {
   "cell_type": "code",
   "execution_count": 12,
   "metadata": {},
   "outputs": [],
   "source": [
    "def quantileStatistic(o,m):\n",
    "    oq = np.quantile([a for a in o if a > 0],[0.025,0.25,0.5,0.75,0.975])\n",
    "    mq = np.quantile([b for b in m if b > 0],[0.025,0.25,0.5,0.75,0.975])\n",
    "    r = sp.absolute(oq-mq)\n",
    "    return(sum(r))    \n",
    "        \n",
    "def ksStatistic(o,m):\n",
    "    k,p = stats.ks_2samp([a for a in o if a > 0],[b for b in m if b >0])\n",
    "    return(k)"
   ]
  },
  {
   "cell_type": "code",
   "execution_count": 13,
   "metadata": {},
   "outputs": [],
   "source": [
    "# def logLikelihood(obs,lp):\n",
    "#     if len(obs) > len (lp):\n",
    "#         maxClone = len(lp)\n",
    "#     else:\n",
    "#         maxClone = len(obs)\n",
    "#     def noisyMul(a,b,i):\n",
    "#         #print(\"logP\",lp, \"\\nobsv\", obs); lp[i]*obs[i]\n",
    "#         print(\"logP\",a, \"\\nobsv\", b)\n",
    "#         return(a[i]*b[i])\n",
    "#     return(sum([obs[i]*lp[i] for i in range(maxClone)]))\n",
    "\n",
    "# def allLogLike(obs,lp):\n",
    "#     return(sum([logLikelihood(o,p) for o,p in zip(obs,lp)]))\n",
    "\n",
    "# def sizesToFreq(sizes, data):\n",
    "#     biggest = max([max(c) for c in sizes])\n",
    "#     #print(\"Mean:\",(sum(sizes)*surv))\n",
    "#     sizeList = [[t.count(s+1) for s in range(biggest)] for t in sizes]\n",
    "#     probability = [np.array(t)/sum(t) for t in sizeList]\n",
    "#     total = [sum(t) for t in data]\n",
    "#     freq = [(p*o) for p,o in zip(probability,total)]\n",
    "# #     logFreq = [[0 if total==0 or item==0 else math.log10(item/total) for item in n] for n,total in zip(sizeList,countPerTimePoint)]\n",
    "#     return(freq)\n",
    "    \n",
    "def fateToFrequency(timePoints,fates,generations,div,strat,data):\n",
    "    times = np.asarray([np.asarray(correctTime(c,0,div,strat,generations)) for c in fates])\n",
    "    #count clone sizes at timepoints\n",
    "    def within(birth,death,time):\n",
    "        if time>=birth and time<death:\n",
    "            return(1)\n",
    "        else:\n",
    "            return(0)\n",
    "    cloneSizes = [[sum([within(cell[0],cell[1],t) for cell in clone]) for clone in times ] for t in timePoints]\n",
    "    #for i,t in enumerate(cloneSizes):\n",
    "    #    print(i,sum(t),t.count(0))\n",
    "    #convert to log10(frequency)\n",
    "#     freq = sizesToFreq(cloneSizes,data)\n",
    "    return(cloneSizes)\n",
    "\n",
    "def parameterLike(rho,meanDivTime,timePoints,fates,generations,div,seed,data):\n",
    "    #print(\"rho =\",rho)\n",
    "    stratTime = (1-rho)*meanDivTime/rho\n",
    "    #print(\"\\tstrat =\",stratTime)\n",
    "    strat = exponentialGenerate(seed,(stratTime))\n",
    "    #Now get the probabilities\n",
    "    sim = fateToFrequency(timePoints,fates,generations,div,strat,data)\n",
    "    #Now get the likelihoods\n",
    "#     like = allLogLike(data,lp)\n",
    "    #print(like)\n",
    "    d = [ksStatistic(data[i],sim[i]) for i in range(len(data))]\n",
    "    return(sum(d))\n",
    "\n",
    "def searchRho(timePoints,r,rhoVals,sampleSize,seed,div,meanDivTime,data):\n",
    "    #print(\"r =\",r)\n",
    "    random.seed(seed)\n",
    "    generations = 230 \n",
    "    def seedWrapper(r,generations,seed):\n",
    "        random.seed(seed)\n",
    "        clone = cell(0,True,r,random)\n",
    "        return(cloneSimulateComplete(clone,generations))\n",
    "    fates = np.asarray( [np.asarray(seedWrapper(r,generations,i)) for i in range(sampleSize)] )\n",
    "    #check fate survival is sound\n",
    "    def within(birth,death,time):\n",
    "        if time>=birth and time<death:\n",
    "            return(1)\n",
    "        else:\n",
    "            return(0)\n",
    "    cloneSizes = [[sum([within(b,d,t/meanDivTime) for (b,d,p,s) in clone]) for clone in fates ] for t in timePoints]\n",
    "    #for i,t in enumerate(cloneSizes):\n",
    "    #    print(i,sum(t),t.count(0))\n",
    "    return([parameterLike(rho,meanDivTime,timePoints,fates,generations,div,rhoSeed,data) for rhoSeed,rho in enumerate(rhoVals)])\n",
    "    \n",
    "def calculateDistance(div,meanDivTime,data,bins,timePoints):\n",
    "    rhoVals = [(i/bins) for i in range(1,bins)] \n",
    "    rVals = [(i*0.2/bins) for i in range(1,bins)] \n",
    "    #print(\"Testing:\",rVals,rhoVals)\n",
    "    sampleSize = 10000\n",
    "    result = np.array([searchRho(timePoints,r,rhoVals,sampleSize,seed,div,meanDivTime,data) for (seed,r) in enumerate(rVals)])\n",
    "    return(result)"
   ]
  },
  {
   "cell_type": "code",
   "execution_count": 14,
   "metadata": {},
   "outputs": [
    {
     "name": "stdout",
     "output_type": "stream",
     "text": [
      "CPU times: user 50min 25s, sys: 6.56 s, total: 50min 32s\n",
      "Wall time: 50min 32s\n"
     ]
    }
   ],
   "source": [
    "bins = 10\n",
    "expRate = exponentialGenerate(102,(2.4))\n",
    "%time e = calculateDistance(expRate,2.4,experimentList,bins,times)"
   ]
  },
  {
   "cell_type": "code",
   "execution_count": 15,
   "metadata": {},
   "outputs": [],
   "source": [
    "def plotDistance(e):\n",
    "    #Does some transformations to ensure that the graph is square, \n",
    "    # with r on x axis and rho on y, both increasing from bottom left\n",
    "    plt.imshow((np.flip(np.transpose(e),axis=0)), cmap='coolwarm', interpolation='nearest',extent=[0,0.2,0,1],aspect=0.2)\n",
    "    # based on the constant slope of the plot of average clone size against time, r/rho=slope/lambda\n",
    "    x = np.linspace(0,0.1,50)\n",
    "    y = x/0.12\n",
    "    plt.plot(x, y, '-c')\n",
    "    plt.colorbar()\n",
    "    plt.show()"
   ]
  },
  {
   "cell_type": "code",
   "execution_count": 16,
   "metadata": {},
   "outputs": [
    {
     "data": {
      "image/png": "[encoded data removed]",
      "text/plain": [
       "<Figure size 432x288 with 2 Axes>"
      ]
     },
     "metadata": {
      "needs_background": "light"
     },
     "output_type": "display_data"
    }
   ],
   "source": [
    "plotDistance(e)"
   ]
  },
  {
   "cell_type": "code",
   "execution_count": 17,
   "metadata": {},
   "outputs": [
    {
     "name": "stdout",
     "output_type": "stream",
     "text": [
      "CPU times: user 54min 44s, sys: 20.8 s, total: 55min 5s\n",
      "Wall time: 51min 15s\n"
     ]
    }
   ],
   "source": [
    "gamRate = gammaGenerateDelay(102,(2.4,8.,0.5))\n",
    "%time g = calculateDistance(gamRate,2.4,experimentList,bins,times)"
   ]
  },
  {
   "cell_type": "code",
   "execution_count": 18,
   "metadata": {},
   "outputs": [
    {
     "data": {
      "image/png": "[encoded data removed]",
      "text/plain": [
       "<Figure size 432x288 with 2 Axes>"
      ]
     },
     "metadata": {
      "needs_background": "light"
     },
     "output_type": "display_data"
    }
   ],
   "source": [
    "plotDistance(g)"
   ]
  },
  {
   "cell_type": "code",
   "execution_count": 21,
   "metadata": {},
   "outputs": [],
   "source": [
    "pickle_out = open(\"pickled_ks_exp\",\"wb\")\n",
    "pickle.dump(e, pickle_out)\n",
    "pickle_out.close()"
   ]
  },
  {
   "cell_type": "code",
   "execution_count": 22,
   "metadata": {},
   "outputs": [],
   "source": [
    "pickle_out = open(\"pickled_ks_gamma\",\"wb\")\n",
    "pickle.dump(g, pickle_out)\n",
    "pickle_out.close()"
   ]
  },
  {
   "cell_type": "code",
   "execution_count": null,
   "metadata": {},
   "outputs": [],
   "source": []
  }
 ],
 "metadata": {
  "kernelspec": {
   "display_name": "Python 3",
   "language": "python",
   "name": "python3"
  },
  "language_info": {
   "codemirror_mode": {
    "name": "ipython",
    "version": 3
   },
   "file_extension": ".py",
   "mimetype": "text/x-python",
   "name": "python",
   "nbconvert_exporter": "python",
   "pygments_lexer": "ipython3",
   "version": "3.7.3"
  }
 },
 "nbformat": 4,
 "nbformat_minor": 2
}
